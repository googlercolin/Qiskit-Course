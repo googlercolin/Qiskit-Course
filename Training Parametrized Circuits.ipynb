{
 "cells": [
  {
   "cell_type": "code",
   "execution_count": 4,
   "id": "c706f5f7-fe7e-49c5-9f1c-34de1a3677b8",
   "metadata": {},
   "outputs": [],
   "source": [
    "import numpy as np\n",
    "\n",
    "# Importing standard Qiskit libraries\n",
    "from qiskit import QuantumCircuit, transpile, Aer, IBMQ\n",
    "from qiskit.tools.jupyter import *\n",
    "from qiskit.visualization import *\n",
    "from ibm_quantum_widgets import *\n",
    "from qiskit.providers.aer import QasmSimulator\n",
    "\n",
    "# Loading your IBM Quantum account(s)\n",
    "provider = IBMQ.load_account()"
   ]
  },
  {
   "cell_type": "markdown",
   "id": "f80b1968-cb55-463f-9ed8-1188658b29e7",
   "metadata": {},
   "source": [
    "# Defining the parameterized state\n",
    "\n",
    "Let $U(\\vec\\theta)$ be the Qiskit RealAmplitudes circuit on two qubits"
   ]
  },
  {
   "cell_type": "code",
   "execution_count": 5,
   "id": "06d6866b-1c17-4170-b8eb-80e2c1c32cca",
   "metadata": {},
   "outputs": [
    {
     "data": {
      "image/png": "[encoded data removed]",
      "text/plain": [
       "<Figure size 267.052x144.48 with 1 Axes>"
      ]
     },
     "execution_count": 5,
     "metadata": {},
     "output_type": "execute_result"
    }
   ],
   "source": [
    "from qiskit.circuit.library import RealAmplitudes\n",
    "\n",
    "ansatz = RealAmplitudes(num_qubits=2, reps=1,\n",
    "                        entanglement='linear').decompose()\n",
    "ansatz.draw()"
   ]
  },
  {
   "cell_type": "markdown",
   "id": "81167ec7-a488-4f19-a13d-f12380c74a46",
   "metadata": {},
   "source": [
    "Defining a Hamiltonian"
   ]
  },
  {
   "cell_type": "code",
   "execution_count": 6,
   "id": "27740473-62c7-422f-9fe7-e52de2f0800d",
   "metadata": {},
   "outputs": [],
   "source": [
    "from qiskit.opflow import Z, I\n",
    "\n",
    "hamiltonian = Z ^ Z"
   ]
  },
  {
   "cell_type": "code",
   "execution_count": 7,
   "id": "6760005d-28d7-4c25-bb60-8216730d2bbc",
   "metadata": {},
   "outputs": [
    {
     "name": "stdout",
     "output_type": "stream",
     "text": [
      "ComposedOp([\n",
      "  OperatorMeasurement(ZZ),\n",
      "  CircuitStateFn(\n",
      "       ┌──────────┐     ┌──────────┐\n",
      "  q_0: ┤ Ry(θ[0]) ├──■──┤ Ry(θ[2]) ├\n",
      "       ├──────────┤┌─┴─┐├──────────┤\n",
      "  q_1: ┤ Ry(θ[1]) ├┤ X ├┤ Ry(θ[3]) ├\n",
      "       └──────────┘└───┘└──────────┘\n",
      "  )\n",
      "])\n"
     ]
    }
   ],
   "source": [
    "from qiskit.opflow import StateFn, PauliExpectation\n",
    "\n",
    "expectation = StateFn(hamiltonian, is_measurement=True) @ StateFn(ansatz)\n",
    "pauli_basis = PauliExpectation().convert(expectation)\n",
    "print(pauli_basis)"
   ]
  },
  {
   "cell_type": "code",
   "execution_count": 8,
   "id": "9595f23d-8760-415d-8906-e30d67897c39",
   "metadata": {},
   "outputs": [],
   "source": [
    "from qiskit import Aer\n",
    "from qiskit.utils import QuantumInstance\n",
    "from qiskit.opflow import CircuitSampler\n",
    "\n",
    "quantum_instance = QuantumInstance(Aer.get_backend('qasm_simulator'),\n",
    "                                   # we'll set a seed for reproducibility\n",
    "                                   shots = 8192, seed_simulator = 2718,\n",
    "                                   seed_transpiler = 2718)\n",
    "sampler = CircuitSampler(quantum_instance)\n",
    "\n",
    "def evaluate_expectation(x):\n",
    "    value_dict = dict(zip(ansatz.parameters, x))\n",
    "    result = sampler.convert(pauli_basis, params=value_dict).eval()  \n",
    "    return np.real(result)"
   ]
  },
  {
   "cell_type": "markdown",
   "id": "b672a40f-6215-4263-af37-3b11e5804b30",
   "metadata": {},
   "source": [
    "To make things concrete, fix a point $\\vec p$ and an index i and ask: What's the derivative of the expectation value with respect to parameter $\\theta_i$ at point $\\vec p$?\n",
    "\n",
    "We choose a random point $\\vec p$ and $i=2$."
   ]
  },
  {
   "cell_type": "code",
   "execution_count": 9,
   "id": "806a6dec-888a-4019-a25c-6f14ca4c5e8f",
   "metadata": {},
   "outputs": [],
   "source": [
    "import numpy as np\n",
    "\n",
    "point = np.random.random(ansatz.num_parameters)\n",
    "index = 2"
   ]
  },
  {
   "cell_type": "markdown",
   "id": "b8414a86-c22d-4ef2-81f9-155b2f076ec7",
   "metadata": {},
   "source": [
    "## Finite difference gradients\n",
    "Taking points a small distance $\\epsilon$ before and after $\\vec p$, and finding the gradient between them."
   ]
  },
  {
   "cell_type": "markdown",
   "id": "dedd6f6f-aa80-4ca9-8312-6193f2e851c1",
   "metadata": {},
   "source": [
    "### Manually"
   ]
  },
  {
   "cell_type": "code",
   "execution_count": 11,
   "id": "a776f1dd-5bcc-4a61-a0f3-852ef8bff3ec",
   "metadata": {},
   "outputs": [
    {
     "name": "stdout",
     "output_type": "stream",
     "text": [
      "[0. 0. 1. 0.]\n",
      "0.1312255859375\n"
     ]
    }
   ],
   "source": [
    "eps = 0.2\n",
    "# make identity vector with a 1 at index ``index``, otherwise 0\n",
    "e_i = np.identity(point.size)[:, index]\n",
    "print(e_i)\n",
    "\n",
    "plus = point + eps * e_i\n",
    "minus = point - eps * e_i\n",
    "\n",
    "finite_difference = (\n",
    "    evaluate_expectation(plus) - evaluate_expectation(minus)) / (2 * eps)\n",
    "print(finite_difference)"
   ]
  },
  {
   "cell_type": "markdown",
   "id": "131a08f4-31eb-44e1-a501-eea585e55554",
   "metadata": {},
   "source": [
    "### Automatically using Qiskit's Gradient class"
   ]
  },
  {
   "cell_type": "code",
   "execution_count": 12,
   "id": "5a3d71f4-e0ca-496b-9b01-9395a34448c9",
   "metadata": {},
   "outputs": [
    {
     "name": "stdout",
     "output_type": "stream",
     "text": [
      "SummedOp([\n",
      "  2.5 * ComposedOp([\n",
      "    OperatorMeasurement(ZZ),\n",
      "    CircuitStateFn(\n",
      "         ┌──────────┐     ┌────────────────┐\n",
      "    q_0: ┤ Ry(θ[0]) ├──■──┤ Ry(θ[2] + 0.2) ├\n",
      "         ├──────────┤┌─┴─┐└──┬──────────┬──┘\n",
      "    q_1: ┤ Ry(θ[1]) ├┤ X ├───┤ Ry(θ[3]) ├───\n",
      "         └──────────┘└───┘   └──────────┘   \n",
      "    )\n",
      "  ]),\n",
      "  -2.5 * ComposedOp([\n",
      "    OperatorMeasurement(ZZ),\n",
      "    CircuitStateFn(\n",
      "         ┌──────────┐     ┌────────────────┐\n",
      "    q_0: ┤ Ry(θ[0]) ├──■──┤ Ry(θ[2] - 0.2) ├\n",
      "         ├──────────┤┌─┴─┐└──┬──────────┬──┘\n",
      "    q_1: ┤ Ry(θ[1]) ├┤ X ├───┤ Ry(θ[3]) ├───\n",
      "         └──────────┘└───┘   └──────────┘   \n",
      "    )\n",
      "  ])\n",
      "])\n"
     ]
    },
    {
     "data": {
      "text/plain": [
       "0.10742187499999978"
      ]
     },
     "execution_count": 12,
     "metadata": {},
     "output_type": "execute_result"
    }
   ],
   "source": [
    "from qiskit.opflow import Gradient\n",
    "\n",
    "shifter = Gradient('fin_diff', analytic=False, epsilon=eps)\n",
    "grad = shifter.convert(expectation, params=ansatz.parameters[index])\n",
    "print(grad)\n",
    "\n",
    "value_dict = dict(zip(ansatz.parameters, point))\n",
    "sampler.convert(grad, value_dict).eval().real"
   ]
  },
  {
   "cell_type": "markdown",
   "id": "89134105-3351-498c-91b9-20093de38024",
   "metadata": {},
   "source": [
    "## Analytic gradients\n",
    "Using Parameter Shift rule to simplify"
   ]
  },
  {
   "cell_type": "markdown",
   "id": "5ddde328-6f8c-4047-995d-0344f9c2f394",
   "metadata": {},
   "source": [
    "### Manually"
   ]
  },
  {
   "cell_type": "code",
   "execution_count": 13,
   "id": "58fccc86-79b3-4124-b350-c18bd3e6a3f1",
   "metadata": {},
   "outputs": [
    {
     "name": "stdout",
     "output_type": "stream",
     "text": [
      "0.14428710937499997\n"
     ]
    }
   ],
   "source": [
    "eps = np.pi / 2\n",
    "e_i = np.identity(point.size)[:, index]\n",
    "\n",
    "plus = point + eps * e_i\n",
    "minus = point - eps * e_i\n",
    "\n",
    "finite_difference = (\n",
    "    evaluate_expectation(plus) - evaluate_expectation(minus)) / 2\n",
    "\n",
    "print(finite_difference)"
   ]
  },
  {
   "cell_type": "markdown",
   "id": "f8233799-91e5-4dbb-8891-f7cbdba3cdea",
   "metadata": {},
   "source": [
    "### Automatically using Qiskit's Gradient class"
   ]
  },
  {
   "cell_type": "code",
   "execution_count": 14,
   "id": "a4bdf18e-da1d-4eb6-b072-1451ae2314f4",
   "metadata": {},
   "outputs": [
    {
     "data": {
      "text/plain": [
       "0.14172363281250006"
      ]
     },
     "execution_count": 14,
     "metadata": {},
     "output_type": "execute_result"
    }
   ],
   "source": [
    "shifter = Gradient()  # parameter-shift rule is the default\n",
    "grad = shifter.convert(expectation, params=ansatz.parameters[index])\n",
    "sampler.convert(grad, value_dict).eval().real"
   ]
  },
  {
   "cell_type": "markdown",
   "id": "c4788b8d-c090-4276-826f-dd1d8fe0634b",
   "metadata": {},
   "source": [
    "## Optimizing the expectation value"
   ]
  },
  {
   "cell_type": "code",
   "execution_count": 15,
   "id": "10e8cb40-5e62-4544-9751-f535f9d75c43",
   "metadata": {},
   "outputs": [],
   "source": [
    "# initial_point = np.random.random(ansatz.num_parameters)\n",
    "initial_point = np.array([0.43253681, 0.09507794, 0.42805949, 0.34210341]) # now fix and initial point for reproducibility"
   ]
  },
  {
   "cell_type": "code",
   "execution_count": 16,
   "id": "484e4597-4d35-454d-b41c-34b25f010594",
   "metadata": {},
   "outputs": [],
   "source": [
    "gradient = Gradient().convert(expectation)\n",
    "gradient_in_pauli_basis = PauliExpectation().convert(gradient)\n",
    "sampler = CircuitSampler(quantum_instance)\n",
    "\n",
    "def evaluate_gradient(x):\n",
    "    value_dict = dict(zip(ansatz.parameters, x))\n",
    "    result = sampler.convert(gradient_in_pauli_basis,\n",
    "                             params=value_dict).eval()\n",
    "    return np.real(result)"
   ]
  },
  {
   "cell_type": "markdown",
   "id": "7dbd850e-5536-4993-b94e-ecb4387eaf64",
   "metadata": {},
   "source": [
    "To compare the convergence of the optimizers, we can keep track of the loss at each step by using a callback function."
   ]
  },
  {
   "cell_type": "code",
   "execution_count": 20,
   "id": "335dfb46-10bb-4b29-bdfd-bd0514b0018d",
   "metadata": {},
   "outputs": [],
   "source": [
    "from qiskit.algorithms.optimizers import GradientDescent\n",
    "\n",
    "gd_loss = []\n",
    "def gd_callback(nfevs, x, fx, stepsize):\n",
    "    gd_loss.append(fx)\n",
    "    \n",
    "gd = GradientDescent(maxiter=300,\n",
    "                     learning_rate=0.01,\n",
    "                     callback=gd_callback)"
   ]
  },
  {
   "cell_type": "code",
   "execution_count": 21,
   "id": "beaff4c2-9d55-4c03-9064-48f688929818",
   "metadata": {},
   "outputs": [
    {
     "data": {
      "text/plain": [
       "<matplotlib.legend.Legend at 0x7f506d5199d0>"
      ]
     },
     "execution_count": 21,
     "metadata": {},
     "output_type": "execute_result"
    },
    {
     "data": {
      "image/png": "[encoded data removed]",
      "text/plain": [
       "<Figure size 504x216 with 1 Axes>"
      ]
     },
     "metadata": {
      "needs_background": "light"
     },
     "output_type": "display_data"
    }
   ],
   "source": [
    "x_opt, fx_opt, nfevs = gd.optimize(\n",
    "    initial_point.size,    # number of parameters\n",
    "    evaluate_expectation,  # function to minimize\n",
    "    gradient_function=evaluate_gradient,  # function to evaluate gradient\n",
    "    initial_point=initial_point  # initial point\n",
    ")\n",
    "\n",
    "import matplotlib \n",
    "import matplotlib.pyplot as plt\n",
    "\n",
    "plt.figure(figsize=(7, 3))\n",
    "plt.plot(gd_loss, label='vanilla gradient descent')\n",
    "plt.axhline(-1, ls='--', c='C3', label='target')\n",
    "plt.ylabel('loss')\n",
    "plt.xlabel('iterations')\n",
    "plt.legend()"
   ]
  },
  {
   "cell_type": "code",
   "execution_count": null,
   "id": "32a04841-1b13-4528-b51b-716b22351466",
   "metadata": {},
   "outputs": [],
   "source": []
  }
 ],
 "metadata": {
  "kernelspec": {
   "display_name": "Qiskit v0.34.1 (ipykernel)",
   "language": "python",
   "name": "python3"
  },
  "language_info": {
   "codemirror_mode": {
    "name": "ipython",
    "version": 3
   },
   "file_extension": ".py",
   "mimetype": "text/x-python",
   "name": "python",
   "nbconvert_exporter": "python",
   "pygments_lexer": "ipython3",
   "version": "3.8.12"
  },
  "widgets": {
   "application/vnd.jupyter.widget-state+json": {
    "state": {
     "0e2ac718db4645f1be96d568de2bbc0a": {
      "model_module": "@jupyter-widgets/controls",
      "model_module_version": "1.5.0",
      "model_name": "HTMLModel",
      "state": {
       "layout": "IPY_MODEL_a97ce8961bdf430eb925ff6b4575321a",
       "style": "IPY_MODEL_561b0f3d424942f3bac2df765861cc61",
       "value": "<h5>Message</h5>"
      }
     },
     "27ea6d8903b44e3281998738f9189795": {
      "model_module": "@jupyter-widgets/base",
      "model_module_version": "1.2.0",
      "model_name": "LayoutModel",
      "state": {
       "grid_template_areas": "\n                                       \". . . . right \"\n                                        ",
       "grid_template_columns": "20% 20% 20% 20% 20%",
       "width": "100%"
      }
     },
     "2a189d16cdc74aab8a7d3d861e792594": {
      "model_module": "@jupyter-widgets/controls",
      "model_module_version": "1.5.0",
      "model_name": "ButtonModel",
      "state": {
       "button_style": "primary",
       "description": "Clear",
       "layout": "IPY_MODEL_46248d4c7a7640bb8eb7348cd25de830",
       "style": "IPY_MODEL_3504e2af7949406cbe4151dd77769e6a"
      }
     },
     "2ccf7a5d24444b3e9248523459a4592c": {
      "model_module": "@jupyter-widgets/controls",
      "model_module_version": "1.5.0",
      "model_name": "HTMLModel",
      "state": {
       "layout": "IPY_MODEL_81ec998daaf24e04bb2d9415034dc3f1",
       "style": "IPY_MODEL_e3238541534049a8b16e826b21ce509f",
       "value": "<p style='font-family: IBM Plex Sans, Arial, Helvetica, sans-serif; font-size: 20px; font-weight: medium;'>Circuit Properties</p>"
      }
     },
     "31df9bb4ccd545c8b9192ac63c94c314": {
      "model_module": "@jupyter-widgets/controls",
      "model_module_version": "1.5.0",
      "model_name": "DescriptionStyleModel",
      "state": {
       "description_width": ""
      }
     },
     "3504e2af7949406cbe4151dd77769e6a": {
      "model_module": "@jupyter-widgets/controls",
      "model_module_version": "1.5.0",
      "model_name": "ButtonStyleModel",
      "state": {}
     },
     "46248d4c7a7640bb8eb7348cd25de830": {
      "model_module": "@jupyter-widgets/base",
      "model_module_version": "1.2.0",
      "model_name": "LayoutModel",
      "state": {
       "grid_area": "right",
       "padding": "0px 0px 0px 0px",
       "width": "70px"
      }
     },
     "487ed4b2ccac45589ca36b815724848e": {
      "model_module": "@jupyter-widgets/controls",
      "model_module_version": "1.5.0",
      "model_name": "HTMLModel",
      "state": {
       "layout": "IPY_MODEL_5f77a71a695d4d258836aa0f0a806695",
       "style": "IPY_MODEL_b0db74e7f035454e9522ca56e1e7490f",
       "value": "<h5>Queue</h5>"
      }
     },
     "4ddd7a470dcb4621858f1f76d8c9b469": {
      "model_module": "@jupyter-widgets/base",
      "model_module_version": "1.2.0",
      "model_name": "LayoutModel",
      "state": {
       "width": "95px"
      }
     },
     "561b0f3d424942f3bac2df765861cc61": {
      "model_module": "@jupyter-widgets/controls",
      "model_module_version": "1.5.0",
      "model_name": "DescriptionStyleModel",
      "state": {
       "description_width": ""
      }
     },
     "56cdf9b78bce49aa93f1a72444cde99d": {
      "model_module": "@jupyter-widgets/controls",
      "model_module_version": "1.5.0",
      "model_name": "DescriptionStyleModel",
      "state": {
       "description_width": ""
      }
     },
     "5acc65db4c6940c188aef88c12a03b82": {
      "model_module": "@jupyter-widgets/controls",
      "model_module_version": "1.5.0",
      "model_name": "HTMLModel",
      "state": {
       "layout": "IPY_MODEL_9e37c436ee414ce4b78103f740e3f567",
       "style": "IPY_MODEL_56cdf9b78bce49aa93f1a72444cde99d",
       "value": "<h5>Job ID</h5>"
      }
     },
     "5e081fcea4a94b28a6bff7e89bd38ec4": {
      "model_module": "@jupyter-widgets/controls",
      "model_module_version": "1.5.0",
      "model_name": "HTMLModel",
      "state": {
       "layout": "IPY_MODEL_9c8354151d25448387915f7eb9936ecc",
       "style": "IPY_MODEL_31df9bb4ccd545c8b9192ac63c94c314",
       "value": "<h5>Backend</h5>"
      }
     },
     "5f77a71a695d4d258836aa0f0a806695": {
      "model_module": "@jupyter-widgets/base",
      "model_module_version": "1.2.0",
      "model_name": "LayoutModel",
      "state": {
       "width": "70px"
      }
     },
     "8010fce8164b446b9d1e2a2ab157c8b9": {
      "model_module": "@jupyter-widgets/controls",
      "model_module_version": "1.5.0",
      "model_name": "HTMLModel",
      "state": {
       "layout": "IPY_MODEL_4ddd7a470dcb4621858f1f76d8c9b469",
       "style": "IPY_MODEL_da249b1eabbb4e5b9643820704bde62b",
       "value": "<h5>Status</h5>"
      }
     },
     "81ec998daaf24e04bb2d9415034dc3f1": {
      "model_module": "@jupyter-widgets/base",
      "model_module_version": "1.2.0",
      "model_name": "LayoutModel",
      "state": {
       "margin": "0px 0px 10px 0px"
      }
     },
     "9c8354151d25448387915f7eb9936ecc": {
      "model_module": "@jupyter-widgets/base",
      "model_module_version": "1.2.0",
      "model_name": "LayoutModel",
      "state": {
       "width": "145px"
      }
     },
     "9e37c436ee414ce4b78103f740e3f567": {
      "model_module": "@jupyter-widgets/base",
      "model_module_version": "1.2.0",
      "model_name": "LayoutModel",
      "state": {
       "width": "190px"
      }
     },
     "9e785f520e614d94ad69647e6c33fe46": {
      "model_module": "@jupyter-widgets/controls",
      "model_module_version": "1.5.0",
      "model_name": "GridBoxModel",
      "state": {
       "children": [
        "IPY_MODEL_2a189d16cdc74aab8a7d3d861e792594"
       ],
       "layout": "IPY_MODEL_27ea6d8903b44e3281998738f9189795"
      }
     },
     "a97ce8961bdf430eb925ff6b4575321a": {
      "model_module": "@jupyter-widgets/base",
      "model_module_version": "1.2.0",
      "model_name": "LayoutModel",
      "state": {}
     },
     "b0db74e7f035454e9522ca56e1e7490f": {
      "model_module": "@jupyter-widgets/controls",
      "model_module_version": "1.5.0",
      "model_name": "DescriptionStyleModel",
      "state": {
       "description_width": ""
      }
     },
     "cbc5cc869521487aafa5e1deb3d41738": {
      "model_module": "@jupyter-widgets/controls",
      "model_module_version": "1.5.0",
      "model_name": "HBoxModel",
      "state": {
       "children": [
        "IPY_MODEL_5acc65db4c6940c188aef88c12a03b82",
        "IPY_MODEL_5e081fcea4a94b28a6bff7e89bd38ec4",
        "IPY_MODEL_8010fce8164b446b9d1e2a2ab157c8b9",
        "IPY_MODEL_487ed4b2ccac45589ca36b815724848e",
        "IPY_MODEL_0e2ac718db4645f1be96d568de2bbc0a"
       ],
       "layout": "IPY_MODEL_e0cb8e956f644b57ba5cd2a391994e6d"
      }
     },
     "da249b1eabbb4e5b9643820704bde62b": {
      "model_module": "@jupyter-widgets/controls",
      "model_module_version": "1.5.0",
      "model_name": "DescriptionStyleModel",
      "state": {
       "description_width": ""
      }
     },
     "e0cb8e956f644b57ba5cd2a391994e6d": {
      "model_module": "@jupyter-widgets/base",
      "model_module_version": "1.2.0",
      "model_name": "LayoutModel",
      "state": {
       "margin": "0px 0px 0px 37px",
       "width": "600px"
      }
     },
     "e3238541534049a8b16e826b21ce509f": {
      "model_module": "@jupyter-widgets/controls",
      "model_module_version": "1.5.0",
      "model_name": "DescriptionStyleModel",
      "state": {
       "description_width": ""
      }
     }
    },
    "version_major": 2,
    "version_minor": 0
   }
  }
 },
 "nbformat": 4,
 "nbformat_minor": 5
}
