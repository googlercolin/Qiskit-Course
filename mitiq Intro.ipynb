{
 "cells": [
  {
   "cell_type": "code",
   "execution_count": 1,
   "metadata": {},
   "outputs": [],
   "source": [
    "!pip install mitiq --quiet"
   ]
  },
  {
   "cell_type": "code",
   "execution_count": 10,
   "metadata": {},
   "outputs": [],
   "source": [
    "import warnings\n",
    "\n",
    "warnings.filterwarnings(action='ignore') # Optional warning filter"
   ]
  },
  {
   "cell_type": "code",
   "execution_count": 22,
   "metadata": {},
   "outputs": [],
   "source": [
    "from qiskit import IBMQ\n",
    "IBMQ.save_account('0238b0afc0dc515fe7987b02706791d1719cb89b68befedc125eded0607e6e9e9f26d3eed482f66fdc45fdfceca3aab2edb9519d96b39e9c78040194b86e7858', overwrite=True)"
   ]
  },
  {
   "cell_type": "markdown",
   "metadata": {},
   "source": [
    "# Section 1: Computing quantum expectation values without error mitigation\n",
    "## Define the circuit of interest\n",
    "We first define an arbitrary circuit of interest. For simplicity, in this example we use a two-qubit randomized-benchmarking circuit whose ideal execution is equivalent to the identity operation."
   ]
  },
  {
   "cell_type": "code",
   "execution_count": 12,
   "metadata": {},
   "outputs": [
    {
     "name": "stdout",
     "output_type": "stream",
     "text": [
      "Randomized benchmarking circuit with 211 gates generated.\n",
      "     ┌───┐┌─────┐┌───┐          ┌───┐┌───┐ ┌───┐ ┌───┐┌───┐     ┌─────┐┌───┐»\n",
      "q_0: ┤ Y ├┤ Sdg ├┤ H ├───────■──┤ H ├┤ S ├─┤ X ├─┤ H ├┤ S ├──■──┤ Sdg ├┤ H ├»\n",
      "     ├───┤└┬───┬┘├───┤┌───┐┌─┴─┐├───┤├───┤┌┴───┴┐├───┤└───┘┌─┴─┐└┬───┬┘├───┤»\n",
      "q_1: ┤ Z ├─┤ S ├─┤ H ├┤ S ├┤ X ├┤ H ├┤ S ├┤ Sdg ├┤ H ├─────┤ X ├─┤ H ├─┤ S ├»\n",
      "     └───┘ └───┘ └───┘└───┘└───┘└───┘└───┘└─────┘└───┘     └───┘ └───┘ └───┘»\n",
      "«          ┌───┐┌───┐┌───┐      ┌───┐ ┌───┐     ┌───┐┌───┐┌───┐          ┌───┐»\n",
      "«q_0: ──■──┤ X ├┤ H ├┤ S ├──■───┤ H ├─┤ S ├──■──┤ X ├┤ H ├┤ S ├───────■──┤ S ├»\n",
      "«     ┌─┴─┐├───┤├───┤└───┘┌─┴─┐┌┴───┴┐├───┤┌─┴─┐├───┤├───┤├───┤┌───┐┌─┴─┐├───┤»\n",
      "«q_1: ┤ X ├┤ X ├┤ H ├─────┤ X ├┤ Sdg ├┤ H ├┤ X ├┤ H ├┤ S ├┤ H ├┤ S ├┤ X ├┤ Y ├»\n",
      "«     └───┘└───┘└───┘     └───┘└─────┘└───┘└───┘└───┘└───┘└───┘└───┘└───┘└───┘»\n",
      "«     ┌───┐┌───┐          ┌─────┐┌───┐┌───┐                 ┌─────┐┌───┐┌───┐»\n",
      "«q_0: ┤ H ├┤ S ├───────■──┤ Sdg ├┤ H ├┤ X ├──────────────■──┤ Sdg ├┤ H ├┤ H ├»\n",
      "«     ├───┤├───┤┌───┐┌─┴─┐└┬───┬┘├───┤├───┤┌─────┐┌───┐┌─┴─┐├─────┤├───┤├───┤»\n",
      "«q_1: ┤ S ├┤ H ├┤ S ├┤ X ├─┤ H ├─┤ S ├┤ Z ├┤ Sdg ├┤ H ├┤ X ├┤ Sdg ├┤ H ├┤ Z ├»\n",
      "«     └───┘└───┘└───┘└───┘ └───┘ └───┘└───┘└─────┘└───┘└───┘└─────┘└───┘└───┘»\n",
      "«               ┌─────┐┌───┐     ┌───┐┌─────┐┌───┐          ┌─────┐┌───┐     »\n",
      "«q_0: ───────■──┤ Sdg ├┤ H ├──■──┤ Y ├┤ Sdg ├┤ H ├───────■──┤ Sdg ├┤ H ├─────»\n",
      "«     ┌───┐┌─┴─┐├─────┤├───┤┌─┴─┐├───┤└┬───┬┘├───┤┌───┐┌─┴─┐└┬───┬┘├───┤┌───┐»\n",
      "«q_1: ┤ S ├┤ X ├┤ Sdg ├┤ H ├┤ X ├┤ H ├─┤ S ├─┤ Y ├┤ H ├┤ X ├─┤ H ├─┤ S ├┤ X ├»\n",
      "«     └───┘└───┘└─────┘└───┘└───┘└───┘ └───┘ └───┘└───┘└───┘ └───┘ └───┘└───┘»\n",
      "«           ┌───┐ ┌───┐     ┌───┐┌─────┐┌───┐     ┌───┐┌───┐┌───┐┌───┐┌───┐»\n",
      "«q_0: ──■───┤ H ├─┤ S ├──■──┤ X ├┤ Sdg ├┤ H ├──■──┤ H ├┤ S ├┤ X ├┤ S ├┤ H ├»\n",
      "«     ┌─┴─┐┌┴───┴┐├───┤┌─┴─┐├───┤└┬───┬┘└───┘┌─┴─┐├───┤├───┤├───┤└───┘└───┘»\n",
      "«q_1: ┤ X ├┤ Sdg ├┤ H ├┤ X ├┤ Z ├─┤ H ├──────┤ X ├┤ X ├┤ H ├┤ S ├──────────»\n",
      "«     └───┘└─────┘└───┘└───┘└───┘ └───┘      └───┘└───┘└───┘└───┘          »\n",
      "«     ┌───┐     ┌───┐┌───┐┌───┐           ┌───┐ ┌───┐     ┌───┐┌─────┐┌───┐»\n",
      "«q_0: ┤ S ├──■──┤ Y ├┤ H ├┤ S ├───────■───┤ H ├─┤ S ├──■──┤ Z ├┤ Sdg ├┤ H ├»\n",
      "«     └───┘┌─┴─┐├───┤├───┤├───┤┌───┐┌─┴─┐┌┴───┴┐├───┤┌─┴─┐├───┤└┬───┬┘├───┤»\n",
      "«q_1: ─────┤ X ├┤ H ├┤ S ├┤ Y ├┤ H ├┤ X ├┤ Sdg ├┤ H ├┤ X ├┤ H ├─┤ S ├─┤ Y ├»\n",
      "«          └───┘└───┘└───┘└───┘└───┘└───┘└─────┘└───┘└───┘└───┘ └───┘ └───┘»\n",
      "«                      ┌───┐┌───┐     ┌───┐               ┌─────┐┌───┐     »\n",
      "«q_0: ──────────────■──┤ H ├┤ S ├──■──┤ Y ├────────────■──┤ Sdg ├┤ H ├──■──»\n",
      "«     ┌─────┐┌───┐┌─┴─┐├───┤├───┤┌─┴─┐├───┤┌───┐┌───┐┌─┴─┐└┬───┬┘├───┤┌─┴─┐»\n",
      "«q_1: ┤ Sdg ├┤ H ├┤ X ├┤ H ├┤ S ├┤ X ├┤ X ├┤ H ├┤ S ├┤ X ├─┤ H ├─┤ S ├┤ X ├»\n",
      "«     └─────┘└───┘└───┘└───┘└───┘└───┘└───┘└───┘└───┘└───┘ └───┘ └───┘└───┘»\n",
      "«     ┌───┐┌───┐┌─────┐┌───┐     ┌───┐┌───┐┌───┐┌───┐     ┌─────┐┌───┐     »\n",
      "«q_0: ┤ H ├┤ S ├┤ Sdg ├┤ H ├──■──┤ X ├┤ S ├┤ H ├┤ S ├──■──┤ Sdg ├┤ H ├──■──»\n",
      "«     ├───┤├───┤└─────┘└───┘┌─┴─┐├───┤├───┤├───┤└───┘┌─┴─┐└┬───┬┘├───┤┌─┴─┐»\n",
      "«q_1: ┤ X ├┤ S ├────────────┤ X ├┤ S ├┤ H ├┤ S ├─────┤ X ├─┤ H ├─┤ S ├┤ X ├»\n",
      "«     └───┘└───┘            └───┘└───┘└───┘└───┘     └───┘ └───┘ └───┘└───┘»\n",
      "«     ┌───┐┌───┐┌───┐┌─────┐┌───┐     ┌───┐┌───┐┌───┐┌─────┐┌───┐     ┌─────┐»\n",
      "«q_0: ┤ H ├┤ S ├┤ Y ├┤ Sdg ├┤ H ├──■──┤ H ├┤ S ├┤ X ├┤ Sdg ├┤ H ├──■──┤ Sdg ├»\n",
      "«     ├───┤├───┤└───┘└─────┘└───┘┌─┴─┐├───┤├───┤├───┤└┬───┬┘└───┘┌─┴─┐└┬───┬┘»\n",
      "«q_1: ┤ Y ├┤ S ├─────────────────┤ X ├┤ H ├┤ S ├┤ Y ├─┤ H ├──────┤ X ├─┤ H ├─»\n",
      "«     └───┘└───┘                 └───┘└───┘└───┘└───┘ └───┘      └───┘ └───┘ »\n",
      "«     ┌───┐     ┌─────┐┌───┐     ┌─────┐┌───┐     ┌───┐ ┌───┐ ┌───┐┌───┐     »\n",
      "«q_0: ┤ H ├──■──┤ Sdg ├┤ H ├──■──┤ Sdg ├┤ H ├──■──┤ H ├─┤ S ├─┤ Z ├┤ S ├──■──»\n",
      "«     ├───┤┌─┴─┐└─────┘└───┘┌─┴─┐└┬───┬┘├───┤┌─┴─┐├───┤┌┴───┴┐├───┤└───┘┌─┴─┐»\n",
      "«q_1: ┤ S ├┤ X ├────────────┤ X ├─┤ H ├─┤ S ├┤ X ├┤ Z ├┤ Sdg ├┤ H ├─────┤ X ├»\n",
      "«     └───┘└───┘            └───┘ └───┘ └───┘└───┘└───┘└─────┘└───┘     └───┘»\n",
      "«      ┌───┐ ┌───┐     ┌───┐┌───┐\n",
      "«q_0: ─┤ H ├─┤ S ├──■──┤ H ├┤ Y ├\n",
      "«     ┌┴───┴┐├───┤┌─┴─┐├───┤└───┘\n",
      "«q_1: ┤ Sdg ├┤ H ├┤ X ├┤ X ├─────\n",
      "«     └─────┘└───┘└───┘└───┘     \n"
     ]
    }
   ],
   "source": [
    "import qiskit\n",
    "import qiskit.ignis.verification.randomized_benchmarking as rb\n",
    "from qiskit.transpiler.passes import RemoveBarriers, RemoveFinalMeasurements\n",
    "from mitiq.interface import convert_to_mitiq, convert_from_mitiq\n",
    "\n",
    "n_qubits = 2\n",
    "depth = 20\n",
    "\n",
    "qiskit_circuit = rb.randomized_benchmarking_seq(\n",
    "    length_vector=[depth], rb_pattern=[range(n_qubits)], group_gates=\"0\", rand_seed=1,\n",
    ")[0][0][0]\n",
    "\n",
    "# Remove Barriers\n",
    "qiskit_circuit=RemoveBarriers()(qiskit_circuit)\n",
    "# Remove Measurements\n",
    "qiskit_circuit=RemoveFinalMeasurements()(qiskit_circuit)\n",
    "\n",
    "# print(qiskit_circuit)\n",
    "\n",
    "# Double conversion trick to rename qubit register\n",
    "circuit = convert_from_mitiq(convert_to_mitiq(qiskit_circuit)[0], \"qiskit\")\n",
    "\n",
    "print(f\"Randomized benchmarking circuit with {len(circuit)} gates generated.\")\n",
    "print(circuit)"
   ]
  },
  {
   "cell_type": "markdown",
   "metadata": {},
   "source": [
    "# Execute circuit with noiseless backend"
   ]
  },
  {
   "cell_type": "code",
   "execution_count": 13,
   "metadata": {},
   "outputs": [
    {
     "data": {
      "text/plain": [
       "1.0"
      ]
     },
     "execution_count": 13,
     "metadata": {},
     "output_type": "execute_result"
    }
   ],
   "source": [
    "# Set the number of shots \n",
    "shots = 10 ** 5\n",
    "\n",
    "# Initialize ideal backend (classical noiseless simulator)\n",
    "ideal_backend = qiskit.Aer.get_backend('aer_simulator')\n",
    "\n",
    "# Append measurements\n",
    "circuit_to_run = circuit.copy()\n",
    "circuit_to_run.measure_all()\n",
    "\n",
    "# Run and get count\n",
    "job = ideal_backend.run(circuit_to_run, shots=shots)\n",
    "counts = job.result().get_counts()\n",
    "\n",
    "# Expectation value of A=|00><00|\n",
    "ideal_value = counts[\"00\"] / shots\n",
    "ideal_value"
   ]
  },
  {
   "cell_type": "markdown",
   "metadata": {},
   "source": [
    "## Executing circuit on a noisy simulated backend"
   ]
  },
  {
   "cell_type": "code",
   "execution_count": 28,
   "metadata": {},
   "outputs": [
    {
     "name": "stdout",
     "output_type": "stream",
     "text": [
      "Executing circuit with 211 gates using 20000 shots.\n"
     ]
    },
    {
     "data": {
      "text/plain": [
       "0.75465"
      ]
     },
     "execution_count": 28,
     "metadata": {},
     "output_type": "execute_result"
    }
   ],
   "source": [
    "from qiskit.test.mock import FakeLima\n",
    "from qiskit.providers.aer.noise import NoiseModel\n",
    "\n",
    "# Set the number of shots \n",
    "shots = 20000\n",
    "\n",
    "# Select a noisy backend\n",
    "# noisy_backend = qiskit.IBMQ.load_account().get_backend(\"ibmq_lima\")\n",
    "noisy_backend = FakeLima() # Simulator with noise model similar to \"ibmq_lima\"\n",
    "\n",
    "# Append measurements\n",
    "circuit_to_run = circuit.copy()\n",
    "circuit_to_run.measure_all()\n",
    "\n",
    "# Run and get counts\n",
    "print(f\"Executing circuit with {len(circuit)} gates using {shots} shots.\")\n",
    "job = noisy_backend.run(circuit_to_run, shots=shots)\n",
    "counts = job.result().get_counts()\n",
    "\n",
    "# Compute expectation value of the observable A=|0><0|\n",
    "noisy_value = counts[\"00\"] / shots\n",
    "noisy_value"
   ]
  },
  {
   "cell_type": "markdown",
   "metadata": {},
   "source": [
    "## Section 2: Applying zero-noise extrapolation (ZNE)\n",
    "\n",
    "### Define an executor function\n",
    "We rewrite the last code cell of the previous section as a function that we call executor. This function takes as input a Qiskit circuit and returns the final noisy expectation value. The executor is viewed as a blackbox by Mitiq.\n",
    "\n",
    "Hint: It is usually better, but not necessary, to set optimization_level=0 to avoid automatic circuit optimizations."
   ]
  },
  {
   "cell_type": "code",
   "execution_count": 36,
   "metadata": {},
   "outputs": [],
   "source": [
    "def executor(circuit, shots=10 ** 5):\n",
    "    \"\"\"Executes the input circuit and returns the noisy expectation value <A>, where A=|00>00|.\n",
    "    \"\"\"\n",
    "    # Select a noisy backend\n",
    "    # noisy_backend = qiskit.IBMQ.load_account().get_backend(\"ibmq_lima\")\n",
    "    noisy_backend = FakeLima() # Simulator with noise model similar to \"ibmq_lima\"\n",
    "\n",
    "    # Append measurements\n",
    "    circuit_to_run = circuit.copy()\n",
    "    circuit_to_run.measure_all()\n",
    "\n",
    "    # Run and get counts\n",
    "    print(f\"Executing circuit with {len(circuit)} gates using {shots} shots.\")\n",
    "    job = noisy_backend.run(circuit_to_run, shots=shots)\n",
    "    counts = job.result().get_counts()\n",
    "\n",
    "    # Compute expectation value of the observable A=|0><0|\n",
    "    noisy_value = counts[\"00\"] / shots\n",
    "    return noisy_value  "
   ]
  },
  {
   "cell_type": "code",
   "execution_count": 37,
   "metadata": {},
   "outputs": [
    {
     "name": "stdout",
     "output_type": "stream",
     "text": [
      "Executing circuit with 211 gates using 100000 shots.\n"
     ]
    },
    {
     "data": {
      "text/plain": [
       "0.75832"
      ]
     },
     "execution_count": 37,
     "metadata": {},
     "output_type": "execute_result"
    }
   ],
   "source": [
    "noisy_value = executor(circuit)\n",
    "noisy_value"
   ]
  },
  {
   "cell_type": "code",
   "execution_count": 32,
   "metadata": {},
   "outputs": [
    {
     "name": "stdout",
     "output_type": "stream",
     "text": [
      "Executing circuit with 211 gates using 100000 shots.\n",
      "Executing circuit with 423 gates using 100000 shots.\n",
      "Executing circuit with 633 gates using 100000 shots.\n",
      "Estimation error without Mitiq   : 0.24397000000000002\n",
      "Estimation error with Mitiq (ZNE): 0.028410000000000046\n",
      "ZNE reduced the estimation error by 88.4%.\n"
     ]
    }
   ],
   "source": [
    "from mitiq import zne\n",
    "\n",
    "# By default, noise is scaled by locally folding gates at random, and the default extrapolation is Richardson. Scale factor = 3.\n",
    "zne_value = zne.execute_with_zne(circuit, executor) \n",
    "\n",
    "unmitigated_error = abs(ideal_value - noisy_value)\n",
    "zne_error = abs(ideal_value - zne_value)\n",
    "print(f\"Estimation error without Mitiq   : {unmitigated_error}\")\n",
    "print(f\"Estimation error with Mitiq (ZNE): {zne_error}\")\n",
    "print(f\"ZNE reduced the estimation error by {(unmitigated_error - zne_error) / unmitigated_error :.1%}.\")"
   ]
  },
  {
   "cell_type": "markdown",
   "metadata": {},
   "source": [
    "#### Decorator Method"
   ]
  },
  {
   "cell_type": "code",
   "execution_count": 34,
   "metadata": {},
   "outputs": [],
   "source": [
    "import mitiq\n",
    "\n",
    "@mitiq.zne.zne_decorator()\n",
    "def executor(circuit, shots=10 ** 5):\n",
    "    \"\"\"Executes the input circuit and returns the noisy expectation value <A>, where A=|00>00|.\n",
    "    \"\"\"\n",
    "    # Select a noisy backend\n",
    "    # noisy_backend = qiskit.IBMQ.load_account().get_backend(\"ibmq_lima\")\n",
    "    noisy_backend = FakeLima() # Simulator with noise model similar to \"ibmq_lima\"\n",
    "\n",
    "    # Append measurements\n",
    "    circuit_to_run = circuit.copy()\n",
    "    circuit_to_run.measure_all()\n",
    "\n",
    "    # Run and get counts\n",
    "    print(f\"Executing circuit with {len(circuit)} gates using {shots} shots.\")\n",
    "    job = noisy_backend.run(circuit_to_run, shots=shots)\n",
    "    counts = job.result().get_counts()\n",
    "\n",
    "    # Compute expectation value of the observable A=|0><0|\n",
    "    noisy_value = counts[\"00\"] / shots\n",
    "    return noisy_value  "
   ]
  },
  {
   "cell_type": "code",
   "execution_count": 35,
   "metadata": {},
   "outputs": [
    {
     "name": "stdout",
     "output_type": "stream",
     "text": [
      "Executing circuit with 211 gates using 100000 shots.\n",
      "Executing circuit with 423 gates using 100000 shots.\n",
      "Executing circuit with 633 gates using 100000 shots.\n"
     ]
    },
    {
     "data": {
      "text/plain": [
       "1.0453900000000003"
      ]
     },
     "execution_count": 35,
     "metadata": {},
     "output_type": "execute_result"
    }
   ],
   "source": [
    "noisy_value = executor(circuit)\n",
    "noisy_value"
   ]
  },
  {
   "cell_type": "markdown",
   "metadata": {},
   "source": [
    "### Select a noise scaling method"
   ]
  },
  {
   "cell_type": "code",
   "execution_count": 33,
   "metadata": {},
   "outputs": [],
   "source": [
    "# Choose a unitary folding function\n",
    "noise_scaling_function = zne.scaling.fold_global"
   ]
  },
  {
   "cell_type": "code",
   "execution_count": 38,
   "metadata": {},
   "outputs": [
    {
     "name": "stdout",
     "output_type": "stream",
     "text": [
      "The input circuit has 211 gates\n",
      "The scaled circuit has 739 gates\n"
     ]
    }
   ],
   "source": [
    "noise_scaled_circuit = noise_scaling_function(circuit, scale_factor=3.5)\n",
    "\n",
    "print(f\"The input circuit has {len(circuit)} gates\")\n",
    "print(f\"The scaled circuit has {len(noise_scaled_circuit)} gates\")"
   ]
  },
  {
   "cell_type": "markdown",
   "metadata": {},
   "source": [
    "### Select Extrapolation Model"
   ]
  },
  {
   "cell_type": "code",
   "execution_count": 54,
   "metadata": {},
   "outputs": [],
   "source": [
    "# Examples:\n",
    "\n",
    "# Richardson extrapolation\n",
    "# factory = zne.inference.RichardsonFactory(scale_factors = [1, 1.2, 2, 3, 5.5])\n",
    "\n",
    "# Exponential extrapolation\n",
    "factory = zne.inference.ExpFactory(scale_factors = [1, 1.5, 2, 3, 3.5], asymptote=0.25)\n",
    "\n",
    "# Exponential adaptive extrapolation\n",
    "# factory = zne.inference.AdaExpFactory(steps=10, asymptote=0.25)"
   ]
  },
  {
   "cell_type": "code",
   "execution_count": 55,
   "metadata": {},
   "outputs": [
    {
     "name": "stdout",
     "output_type": "stream",
     "text": [
      "Executing circuit with 211 gates using 100000 shots.\n",
      "Executing circuit with 317 gates using 100000 shots.\n",
      "Executing circuit with 423 gates using 100000 shots.\n",
      "Executing circuit with 633 gates using 100000 shots.\n",
      "Executing circuit with 739 gates using 100000 shots.\n",
      "Estimation error without Mitiq   : 0.24168\n",
      "Estimation error with Mitiq (ZNE): 0.03625839672298803\n",
      "ZNE reduced the estimation error by 85.0%.\n"
     ]
    }
   ],
   "source": [
    "zne_value = zne.execute_with_zne(circuit, executor, scale_noise=noise_scaling_function, factory=factory)\n",
    "\n",
    "unmitigated_error = abs(ideal_value - noisy_value)\n",
    "zne_error = abs(ideal_value - zne_value)\n",
    "print(f\"Estimation error without Mitiq   : {unmitigated_error}\")\n",
    "print(f\"Estimation error with Mitiq (ZNE): {zne_error}\")\n",
    "print(f\"ZNE reduced the estimation error by {(unmitigated_error - zne_error) / unmitigated_error :.1%}.\")"
   ]
  },
  {
   "cell_type": "code",
   "execution_count": 56,
   "metadata": {},
   "outputs": [
    {
     "data": {
      "image/png": "[encoded data removed]",
      "text/plain": [
       "<Figure size 504x360 with 1 Axes>"
      ]
     },
     "metadata": {
      "needs_background": "light"
     },
     "output_type": "display_data"
    }
   ],
   "source": [
    "_ = factory.plot_fit()"
   ]
  },
  {
   "cell_type": "code",
   "execution_count": 57,
   "metadata": {},
   "outputs": [
    {
     "data": {
      "text/plain": [
       "array([0.75907, 0.66326, 0.59669, 0.5017 , 0.45726])"
      ]
     },
     "execution_count": 57,
     "metadata": {},
     "output_type": "execute_result"
    }
   ],
   "source": [
    "factory.get_expectation_values()"
   ]
  },
  {
   "cell_type": "code",
   "execution_count": 58,
   "metadata": {},
   "outputs": [
    {
     "data": {
      "text/plain": [
       "array([1. , 1.5, 2. , 3. , 3.5])"
      ]
     },
     "execution_count": 58,
     "metadata": {},
     "output_type": "execute_result"
    }
   ],
   "source": [
    "factory.get_scale_factors()"
   ]
  },
  {
   "cell_type": "code",
   "execution_count": 59,
   "metadata": {},
   "outputs": [
    {
     "data": {
      "text/plain": [
       "0.963741603277012"
      ]
     },
     "execution_count": 59,
     "metadata": {},
     "output_type": "execute_result"
    }
   ],
   "source": [
    "factory.get_zero_noise_limit()"
   ]
  },
  {
   "cell_type": "markdown",
   "metadata": {},
   "source": [
    "## Section 3: Applying probabilistic error cancellation (PEC)"
   ]
  },
  {
   "cell_type": "code",
   "execution_count": 60,
   "metadata": {},
   "outputs": [],
   "source": [
    "from mitiq import pec"
   ]
  },
  {
   "cell_type": "markdown",
   "metadata": {},
   "source": [
    "### Build quasi-probability representation for CNOT gate\n",
    "\n",
    "For simplicity, we assume that:\n",
    "- Only CNOT gates are affected by noise;\n",
    "- The noise is depolarizing.\n",
    "\n",
    "Even within these assumptions, we still need to know how strong the noise is. A good approximation is the error probability of the CNOT gate."
   ]
  },
  {
   "cell_type": "code",
   "execution_count": 64,
   "metadata": {},
   "outputs": [
    {
     "data": {
      "text/plain": [
       "0.008339674869236618"
      ]
     },
     "execution_count": 64,
     "metadata": {},
     "output_type": "execute_result"
    }
   ],
   "source": [
    "# Print error probability of CNOT gate\n",
    "cnot_error_prob = noisy_backend.properties().gate_error(\"cx\", qubits=(0, 1))\n",
    "cnot_error_prob # a very rough approximation of the error acting on a CNOT gate\n",
    "\n",
    "# print(qiskit.transpile(circuit, backend=noisy_backend))"
   ]
  },
  {
   "cell_type": "markdown",
   "metadata": {},
   "source": [
    "We now build a quasi-probability representation based on the previous assumptions, i.e., we represent the ideal CNOT as a linear combination of noisy operations:\n",
    "$$\\mathcal G_{\\rm CNOT} = \\sum_\\alpha \\eta_\\alpha \\mathcal O_\\alpha, \\quad \\eta_\\alpha \\in \\mathbb R, \\quad \\{ \\mathcal O_\\alpha \\} = \\text{Noisy implementable operations}.$$\n",
    "\n",
    "Key idea: Represent a unitary channel by a linear combination of noisy channels which a computer can actually implement.\n",
    " "
   ]
  },
  {
   "cell_type": "code",
   "execution_count": 68,
   "metadata": {},
   "outputs": [
    {
     "name": "stdout",
     "output_type": "stream",
     "text": [
      "Quasi-probability representation with one-norm 1.01683 generated.\n",
      "q_0: ───@───\n",
      "        │\n",
      "q_1: ───X─── = \n",
      "\n",
      "1.008\n",
      "q_0: ───@───\n",
      "        │\n",
      "q_1: ───X───\n",
      "\n",
      "-0.001\n",
      "q_0: ───@───────\n",
      "        │\n",
      "q_1: ───X───X───\n",
      "\n",
      "-0.001\n",
      "q_0: ───@───────\n",
      "        │\n",
      "q_1: ───X───Y───\n",
      "\n",
      "-0.001\n",
      "q_0: ───@───────\n",
      "        │\n",
      "q_1: ───X───Z───\n",
      "\n",
      "-0.001\n",
      "q_0: ───@───X───\n",
      "        │\n",
      "q_1: ───X───────\n",
      "\n",
      "-0.001\n",
      "q_0: ───@───Y───\n",
      "        │\n",
      "q_1: ───X───────\n",
      "\n",
      "-0.001\n",
      "q_0: ───@───Z───\n",
      "        │\n",
      "q_1: ───X───────\n",
      "\n",
      "-0.001\n",
      "q_0: ───@───X───\n",
      "        │\n",
      "q_1: ───X───X───\n",
      "\n",
      "-0.001\n",
      "q_0: ───@───Y───\n",
      "        │\n",
      "q_1: ───X───X───\n",
      "\n",
      "-0.001\n",
      "q_0: ───@───Z───\n",
      "        │\n",
      "q_1: ───X───X───\n",
      "\n",
      "-0.001\n",
      "q_0: ───@───X───\n",
      "        │\n",
      "q_1: ───X───Y───\n",
      "\n",
      "-0.001\n",
      "q_0: ───@───Y───\n",
      "        │\n",
      "q_1: ───X───Y───\n",
      "\n",
      "-0.001\n",
      "q_0: ───@───Z───\n",
      "        │\n",
      "q_1: ───X───Y───\n",
      "\n",
      "-0.001\n",
      "q_0: ───@───X───\n",
      "        │\n",
      "q_1: ───X───Z───\n",
      "\n",
      "-0.001\n",
      "q_0: ───@───Y───\n",
      "        │\n",
      "q_1: ───X───Z───\n",
      "\n",
      "-0.001\n",
      "q_0: ───@───Z───\n",
      "        │\n",
      "q_1: ───X───Z───\n"
     ]
    }
   ],
   "source": [
    "from mitiq.pec.representations.depolarizing import represent_operation_with_global_depolarizing_noise\n",
    "\n",
    "# Define ideal operation that we aim to represent\n",
    "cnot_circuit = qiskit.QuantumCircuit(qiskit.QuantumRegister(2, name=\"q\")) \n",
    "cnot_circuit.cx(0, 1)\n",
    "\n",
    "# Build representation\n",
    "cnot_rep = represent_operation_with_global_depolarizing_noise(cnot_circuit, noise_level=cnot_error_prob)\n",
    "\n",
    "print(f\"Quasi-probability representation with one-norm {cnot_rep.norm :g} generated.\")\n",
    "print(cnot_rep) # full quasi-probability representation of the CNOT gate\n",
    "\n",
    "import mitiq.pec.representations.optimal.find_optimal_representation \n"
   ]
  },
  {
   "cell_type": "markdown",
   "metadata": {},
   "source": [
    "### Run PEC"
   ]
  },
  {
   "cell_type": "code",
   "execution_count": 66,
   "metadata": {},
   "outputs": [
    {
     "name": "stdout",
     "output_type": "stream",
     "text": [
      "Executing circuit with 211 gates using 200 shots.\n",
      "Executing circuit with 211 gates using 200 shots.\n",
      "Executing circuit with 211 gates using 200 shots.\n",
      "Executing circuit with 211 gates using 200 shots.\n",
      "Executing circuit with 211 gates using 200 shots.\n",
      "Executing circuit with 211 gates using 200 shots.\n",
      "Executing circuit with 211 gates using 200 shots.\n",
      "Executing circuit with 211 gates using 200 shots.\n",
      "Executing circuit with 211 gates using 200 shots.\n",
      "Executing circuit with 211 gates using 200 shots.\n",
      "Executing circuit with 211 gates using 200 shots.\n",
      "Executing circuit with 211 gates using 200 shots.\n",
      "Executing circuit with 211 gates using 200 shots.\n",
      "Executing circuit with 211 gates using 200 shots.\n",
      "Executing circuit with 211 gates using 200 shots.\n",
      "Executing circuit with 211 gates using 200 shots.\n",
      "Executing circuit with 211 gates using 200 shots.\n",
      "Executing circuit with 211 gates using 200 shots.\n",
      "Executing circuit with 211 gates using 200 shots.\n",
      "Executing circuit with 214 gates using 200 shots.\n",
      "Executing circuit with 211 gates using 200 shots.\n",
      "Executing circuit with 211 gates using 200 shots.\n",
      "Executing circuit with 214 gates using 200 shots.\n",
      "Executing circuit with 211 gates using 200 shots.\n",
      "Executing circuit with 211 gates using 200 shots.\n",
      "Executing circuit with 213 gates using 200 shots.\n",
      "Executing circuit with 211 gates using 200 shots.\n",
      "Executing circuit with 213 gates using 200 shots.\n",
      "Executing circuit with 213 gates using 200 shots.\n",
      "Executing circuit with 211 gates using 200 shots.\n",
      "Executing circuit with 211 gates using 200 shots.\n",
      "Executing circuit with 211 gates using 200 shots.\n",
      "Executing circuit with 211 gates using 200 shots.\n",
      "Executing circuit with 211 gates using 200 shots.\n",
      "Executing circuit with 211 gates using 200 shots.\n",
      "Executing circuit with 212 gates using 200 shots.\n",
      "Executing circuit with 213 gates using 200 shots.\n",
      "Executing circuit with 211 gates using 200 shots.\n",
      "Executing circuit with 211 gates using 200 shots.\n",
      "Executing circuit with 211 gates using 200 shots.\n",
      "Executing circuit with 211 gates using 200 shots.\n",
      "Executing circuit with 211 gates using 200 shots.\n",
      "Executing circuit with 211 gates using 200 shots.\n",
      "Executing circuit with 211 gates using 200 shots.\n",
      "Executing circuit with 211 gates using 200 shots.\n",
      "Executing circuit with 211 gates using 200 shots.\n",
      "Executing circuit with 211 gates using 200 shots.\n",
      "Executing circuit with 211 gates using 200 shots.\n",
      "Executing circuit with 211 gates using 200 shots.\n",
      "Executing circuit with 215 gates using 200 shots.\n",
      "Executing circuit with 212 gates using 200 shots.\n",
      "Executing circuit with 214 gates using 200 shots.\n",
      "Executing circuit with 211 gates using 200 shots.\n",
      "Executing circuit with 211 gates using 200 shots.\n",
      "Executing circuit with 213 gates using 200 shots.\n",
      "Executing circuit with 211 gates using 200 shots.\n",
      "Executing circuit with 211 gates using 200 shots.\n",
      "Executing circuit with 213 gates using 200 shots.\n",
      "Executing circuit with 211 gates using 200 shots.\n",
      "Executing circuit with 211 gates using 200 shots.\n",
      "Executing circuit with 211 gates using 200 shots.\n",
      "Executing circuit with 211 gates using 200 shots.\n",
      "Executing circuit with 211 gates using 200 shots.\n",
      "Executing circuit with 211 gates using 200 shots.\n",
      "Executing circuit with 211 gates using 200 shots.\n",
      "Executing circuit with 211 gates using 200 shots.\n",
      "Executing circuit with 214 gates using 200 shots.\n",
      "Executing circuit with 211 gates using 200 shots.\n",
      "Executing circuit with 211 gates using 200 shots.\n",
      "Executing circuit with 211 gates using 200 shots.\n",
      "Executing circuit with 211 gates using 200 shots.\n",
      "Executing circuit with 211 gates using 200 shots.\n",
      "Executing circuit with 211 gates using 200 shots.\n",
      "Executing circuit with 211 gates using 200 shots.\n",
      "Executing circuit with 213 gates using 200 shots.\n",
      "Executing circuit with 211 gates using 200 shots.\n",
      "Executing circuit with 211 gates using 200 shots.\n",
      "Executing circuit with 211 gates using 200 shots.\n",
      "Executing circuit with 212 gates using 200 shots.\n",
      "Executing circuit with 211 gates using 200 shots.\n",
      "Executing circuit with 211 gates using 200 shots.\n",
      "Executing circuit with 211 gates using 200 shots.\n",
      "Executing circuit with 211 gates using 200 shots.\n",
      "Executing circuit with 211 gates using 200 shots.\n",
      "Executing circuit with 211 gates using 200 shots.\n",
      "Executing circuit with 211 gates using 200 shots.\n",
      "Executing circuit with 211 gates using 200 shots.\n",
      "Executing circuit with 211 gates using 200 shots.\n",
      "Executing circuit with 213 gates using 200 shots.\n",
      "Executing circuit with 211 gates using 200 shots.\n",
      "Executing circuit with 211 gates using 200 shots.\n",
      "Executing circuit with 211 gates using 200 shots.\n",
      "Executing circuit with 211 gates using 200 shots.\n",
      "Executing circuit with 211 gates using 200 shots.\n",
      "Executing circuit with 211 gates using 200 shots.\n",
      "Executing circuit with 213 gates using 200 shots.\n",
      "Executing circuit with 211 gates using 200 shots.\n",
      "Executing circuit with 211 gates using 200 shots.\n",
      "Executing circuit with 213 gates using 200 shots.\n",
      "Executing circuit with 211 gates using 200 shots.\n",
      "Estimation error without Mitiq   : 0.24168\n",
      "Estimation error with Mitiq (PEC): 0.008878595141676104\n"
     ]
    }
   ],
   "source": [
    "from functools import partial\n",
    "\n",
    "# Set number of probabilistically generated circuits\n",
    "num_samples = 100\n",
    "\n",
    "# Distribute budget of shots among all circuits\n",
    "shots_per_circuit = shots // num_samples\n",
    "pec_executor = partial(executor, shots=shots_per_circuit)\n",
    "\n",
    "# Run PEC\n",
    "pec_value = pec.execute_with_pec(\n",
    "    circuit, pec_executor, representations = [cnot_rep], num_samples=num_samples, random_state=0,\n",
    ")\n",
    "\n",
    "unmitigated_error = abs(ideal_value - noisy_value)\n",
    "pec_error = abs(ideal_value - pec_value)\n",
    "print(f\"Estimation error without Mitiq   : {unmitigated_error}\")\n",
    "print(f\"Estimation error with Mitiq (PEC): {pec_error}\")"
   ]
  },
  {
   "cell_type": "markdown",
   "metadata": {},
   "source": [
    "From above, we see that most of the times, we execute the original circuit, but sometimes, we apply one of those noisy operations in the previous section. "
   ]
  },
  {
   "cell_type": "code",
   "execution_count": 67,
   "metadata": {},
   "outputs": [
    {
     "name": "stdout",
     "output_type": "stream",
     "text": [
      "PEC reduced the estimation error by 96.3%.\n"
     ]
    }
   ],
   "source": [
    "print(f\"PEC reduced the estimation error by {(unmitigated_error - pec_error) / unmitigated_error :.1%}.\")"
   ]
  },
  {
   "cell_type": "markdown",
   "metadata": {},
   "source": [
    "Even under very strong assumptions on the noise model, we are able to get a good improvement."
   ]
  },
  {
   "cell_type": "markdown",
   "metadata": {},
   "source": [
    "### Build a noise-agnostic quasi-probability representation for CNOT gate\n",
    "\n",
    "Instead of a assuming a depolarizing nose model with some given error rate, we now try to use a noise-agnostic representation based on the NEPEC framework introduced in https://arxiv.org/abs/2108.02237 (Section V). More details can be found in the notebook at this [link](https://github.com/unitaryfund/research/blob/main/nepec/noise-agnostic-pec/noise_agnostic_pec.ipynb).\n",
    "\n",
    "We try to do something like PEC without full knowledge of the noise model."
   ]
  },
  {
   "cell_type": "code",
   "execution_count": 69,
   "metadata": {},
   "outputs": [],
   "source": [
    "from mitiq.pec import NoisyOperation, OperationRepresentation\n",
    "\n",
    "\n",
    "def get_richardson_coefficients(scale_factors):\n",
    "    \"\"\"Returns the array of Richardson extrapolation coefficients associated\n",
    "    to the input array of scale factors.\"\"\"\n",
    "    \n",
    "    # This is based on the Lagrange interpolation formula\n",
    "    richardson_coeffs = []\n",
    "    for l in scale_factors:\n",
    "        coeff = 1.0\n",
    "        for l_prime in scale_factors:\n",
    "            if l_prime == l:\n",
    "                continue\n",
    "            coeff *= l_prime / (l_prime - l)\n",
    "        richardson_coeffs.append(coeff)\n",
    "\n",
    "    return richardson_coeffs\n",
    "\n",
    "def represent_operation_with_nepec(ideal_operation, scale_factors):\n",
    "    \"\"\"Returns the OperationRepresentation contructed by noise scaling and extrapolation.\"\"\"\n",
    "    \n",
    "    coeffs = get_richardson_coefficients(scale_factors)\n",
    "    \n",
    "    basis_expansion = {}\n",
    "    for scale_factor, coeff in zip(scale_factors, coeffs):\n",
    "        scaled_op = NoisyOperation(noise_scaling_function(ideal_operation, scale_factor))\n",
    "        basis_expansion[scaled_op] = coeff\n",
    "    \n",
    "    return OperationRepresentation(ideal_operation, basis_expansion)"
   ]
  },
  {
   "cell_type": "markdown",
   "metadata": {},
   "source": [
    "Similar to ZNE, we take a circuit, scale it and then take a linear combination of the results (ideal gate as a linear combination of channels). But we are doing this locally, at the level of an individual gate.\n",
    "\n",
    "This will work for different levels and types of noise, based on the extrapolation idea. This method is independent from the type of noise."
   ]
  },
  {
   "cell_type": "code",
   "execution_count": 97,
   "metadata": {},
   "outputs": [
    {
     "name": "stdout",
     "output_type": "stream",
     "text": [
      "NEPEC quasi-probability representation with one-norm 1.0202 generated.\n",
      "q_0: ───@───\n",
      "        │\n",
      "q_1: ───X─── = \n",
      "\n",
      "1.010\n",
      "q_0: ───@───\n",
      "        │\n",
      "q_1: ───X───\n",
      "\n",
      "-0.010\n",
      "q_0: ───@───@───@───@───@───@───@───@───@───@───@───@───@───@───@───@───@───@───@───@───@───@───@───@───@───@───@───@───@───@───@───@───@───@───@───@───@───@───@───@───@───@───@───@───@───@───@───@───@───@───@───@───@───@───@───@───@───@───@───@───@───@───@───@───@───@───@───@───@───@───@───@───@───@───@───@───@───@───@───@───@───@───@───@───@───@───@───@───@───@───@───@───@───@───@───@───@───@───@───\n",
      "        │   │   │   │   │   │   │   │   │   │   │   │   │   │   │   │   │   │   │   │   │   │   │   │   │   │   │   │   │   │   │   │   │   │   │   │   │   │   │   │   │   │   │   │   │   │   │   │   │   │   │   │   │   │   │   │   │   │   │   │   │   │   │   │   │   │   │   │   │   │   │   │   │   │   │   │   │   │   │   │   │   │   │   │   │   │   │   │   │   │   │   │   │   │   │   │   │   │   │\n",
      "q_1: ───X───X───X───X───X───X───X───X───X───X───X───X───X───X───X───X───X───X───X───X───X───X───X───X───X───X───X───X───X───X───X───X───X───X───X───X───X───X───X───X───X───X───X───X───X───X───X───X───X───X───X───X───X───X───X───X───X───X───X───X───X───X───X───X───X───X───X───X───X───X───X───X───X───X───X───X───X───X───X───X───X───X───X───X───X───X───X───X───X───X───X───X───X───X───X───X───X───X───X───\n"
     ]
    }
   ],
   "source": [
    "# scale_factors = [1, 3, 5]  \n",
    "scale_factors = [1, 100] # Large scale factors reduce the PEC sampling cost.\n",
    "\n",
    "agn_rep = represent_operation_with_nepec(cnot_circuit, scale_factors)\n",
    "print(f\"NEPEC quasi-probability representation with one-norm {agn_rep.norm :g} generated.\")\n",
    "print(agn_rep)"
   ]
  },
  {
   "cell_type": "markdown",
   "metadata": {},
   "source": [
    "### Run NEPEC (noise-extended PEC)"
   ]
  },
  {
   "cell_type": "code",
   "execution_count": 98,
   "metadata": {},
   "outputs": [
    {
     "name": "stdout",
     "output_type": "stream",
     "text": [
      "Executing circuit with 211 gates using 200 shots.\n",
      "Executing circuit with 211 gates using 200 shots.\n",
      "Executing circuit with 211 gates using 200 shots.\n",
      "Executing circuit with 211 gates using 200 shots.\n",
      "Executing circuit with 407 gates using 200 shots.\n",
      "Executing circuit with 211 gates using 200 shots.\n",
      "Executing circuit with 211 gates using 200 shots.\n",
      "Executing circuit with 211 gates using 200 shots.\n",
      "Executing circuit with 211 gates using 200 shots.\n",
      "Executing circuit with 211 gates using 200 shots.\n",
      "Executing circuit with 309 gates using 200 shots.\n",
      "Executing circuit with 211 gates using 200 shots.\n",
      "Executing circuit with 211 gates using 200 shots.\n",
      "Executing circuit with 211 gates using 200 shots.\n",
      "Executing circuit with 211 gates using 200 shots.\n",
      "Executing circuit with 211 gates using 200 shots.\n",
      "Executing circuit with 211 gates using 200 shots.\n",
      "Executing circuit with 211 gates using 200 shots.\n",
      "Executing circuit with 211 gates using 200 shots.\n",
      "Executing circuit with 407 gates using 200 shots.\n",
      "Executing circuit with 211 gates using 200 shots.\n",
      "Executing circuit with 309 gates using 200 shots.\n",
      "Executing circuit with 505 gates using 200 shots.\n",
      "Executing circuit with 211 gates using 200 shots.\n",
      "Executing circuit with 211 gates using 200 shots.\n",
      "Executing circuit with 309 gates using 200 shots.\n",
      "Executing circuit with 211 gates using 200 shots.\n",
      "Executing circuit with 309 gates using 200 shots.\n",
      "Executing circuit with 309 gates using 200 shots.\n",
      "Executing circuit with 211 gates using 200 shots.\n",
      "Executing circuit with 211 gates using 200 shots.\n",
      "Executing circuit with 211 gates using 200 shots.\n",
      "Executing circuit with 211 gates using 200 shots.\n",
      "Executing circuit with 211 gates using 200 shots.\n",
      "Executing circuit with 309 gates using 200 shots.\n",
      "Executing circuit with 309 gates using 200 shots.\n",
      "Executing circuit with 309 gates using 200 shots.\n",
      "Executing circuit with 211 gates using 200 shots.\n",
      "Executing circuit with 211 gates using 200 shots.\n",
      "Executing circuit with 211 gates using 200 shots.\n",
      "Executing circuit with 211 gates using 200 shots.\n",
      "Executing circuit with 211 gates using 200 shots.\n",
      "Executing circuit with 211 gates using 200 shots.\n",
      "Executing circuit with 211 gates using 200 shots.\n",
      "Executing circuit with 211 gates using 200 shots.\n",
      "Executing circuit with 211 gates using 200 shots.\n",
      "Executing circuit with 211 gates using 200 shots.\n",
      "Executing circuit with 211 gates using 200 shots.\n",
      "Executing circuit with 211 gates using 200 shots.\n",
      "Executing circuit with 407 gates using 200 shots.\n",
      "Executing circuit with 309 gates using 200 shots.\n",
      "Executing circuit with 407 gates using 200 shots.\n",
      "Executing circuit with 211 gates using 200 shots.\n",
      "Executing circuit with 211 gates using 200 shots.\n",
      "Executing circuit with 309 gates using 200 shots.\n",
      "Executing circuit with 211 gates using 200 shots.\n",
      "Executing circuit with 211 gates using 200 shots.\n",
      "Executing circuit with 309 gates using 200 shots.\n",
      "Executing circuit with 211 gates using 200 shots.\n",
      "Executing circuit with 211 gates using 200 shots.\n",
      "Executing circuit with 211 gates using 200 shots.\n",
      "Executing circuit with 211 gates using 200 shots.\n",
      "Executing circuit with 211 gates using 200 shots.\n",
      "Executing circuit with 211 gates using 200 shots.\n",
      "Executing circuit with 211 gates using 200 shots.\n",
      "Executing circuit with 211 gates using 200 shots.\n",
      "Executing circuit with 407 gates using 200 shots.\n",
      "Executing circuit with 211 gates using 200 shots.\n",
      "Executing circuit with 211 gates using 200 shots.\n",
      "Executing circuit with 211 gates using 200 shots.\n",
      "Executing circuit with 211 gates using 200 shots.\n",
      "Executing circuit with 211 gates using 200 shots.\n",
      "Executing circuit with 211 gates using 200 shots.\n",
      "Executing circuit with 211 gates using 200 shots.\n",
      "Executing circuit with 309 gates using 200 shots.\n",
      "Executing circuit with 211 gates using 200 shots.\n",
      "Executing circuit with 211 gates using 200 shots.\n",
      "Executing circuit with 211 gates using 200 shots.\n",
      "Executing circuit with 309 gates using 200 shots.\n",
      "Executing circuit with 211 gates using 200 shots.\n",
      "Executing circuit with 211 gates using 200 shots.\n",
      "Executing circuit with 211 gates using 200 shots.\n",
      "Executing circuit with 211 gates using 200 shots.\n",
      "Executing circuit with 211 gates using 200 shots.\n",
      "Executing circuit with 211 gates using 200 shots.\n",
      "Executing circuit with 211 gates using 200 shots.\n",
      "Executing circuit with 211 gates using 200 shots.\n",
      "Executing circuit with 211 gates using 200 shots.\n",
      "Executing circuit with 309 gates using 200 shots.\n",
      "Executing circuit with 211 gates using 200 shots.\n",
      "Executing circuit with 211 gates using 200 shots.\n",
      "Executing circuit with 211 gates using 200 shots.\n",
      "Executing circuit with 211 gates using 200 shots.\n",
      "Executing circuit with 211 gates using 200 shots.\n",
      "Executing circuit with 211 gates using 200 shots.\n",
      "Executing circuit with 309 gates using 200 shots.\n",
      "Executing circuit with 211 gates using 200 shots.\n",
      "Executing circuit with 211 gates using 200 shots.\n",
      "Executing circuit with 309 gates using 200 shots.\n",
      "Executing circuit with 211 gates using 200 shots.\n",
      "Estimation error without Mitiq     : 0.24168\n",
      "Estimation error with Mitiq (NEPEC): 0.0004337331703063718\n"
     ]
    }
   ],
   "source": [
    "nepec_value = pec.execute_with_pec(\n",
    "    circuit, pec_executor, representations = [agn_rep], num_samples=num_samples, random_state=0,\n",
    ")\n",
    "\n",
    "unmitigated_error = abs(ideal_value - noisy_value)\n",
    "nepec_error = abs(ideal_value - nepec_value)\n",
    "print(f\"Estimation error without Mitiq     : {unmitigated_error}\")\n",
    "print(f\"Estimation error with Mitiq (NEPEC): {nepec_error}\")"
   ]
  },
  {
   "cell_type": "code",
   "execution_count": 99,
   "metadata": {},
   "outputs": [
    {
     "name": "stdout",
     "output_type": "stream",
     "text": [
      "NEPEC reduced the estimation error by 99.8%.\n"
     ]
    }
   ],
   "source": [
    "print(f\"NEPEC reduced the estimation error by {(unmitigated_error - nepec_error) / unmitigated_error :.1%}.\")"
   ]
  },
  {
   "cell_type": "code",
   "execution_count": null,
   "metadata": {},
   "outputs": [],
   "source": []
  }
 ],
 "metadata": {
  "kernelspec": {
   "display_name": "Python 3.8.12 ('qiskit-env')",
   "language": "python",
   "name": "python3"
  },
  "language_info": {
   "codemirror_mode": {
    "name": "ipython",
    "version": 3
   },
   "file_extension": ".py",
   "mimetype": "text/x-python",
   "name": "python",
   "nbconvert_exporter": "python",
   "pygments_lexer": "ipython3",
   "version": "3.8.12"
  },
  "orig_nbformat": 4,
  "vscode": {
   "interpreter": {
    "hash": "c5e597ca477812040ed5a1629c6451aa891ac46335823a5f6165f6c73dfc5551"
   }
  }
 },
 "nbformat": 4,
 "nbformat_minor": 2
}
