{
 "cells": [
  {
   "cell_type": "code",
   "execution_count": 18,
   "metadata": {},
   "outputs": [],
   "source": [
    "import numpy as np\n",
    "\n",
    "from mitiq import cdr, Observable, PauliString, Executor\n",
    "\n",
    "import cirq\n",
    "from cirq.contrib.qasm_import import circuit_from_qasm\n",
    "from cirq.circuits.qasm_output import QasmUGate\n",
    "\n",
    "from qiskit import *\n",
    "from qiskit import transpile, assemble, IBMQ\n",
    "from qiskit.visualization import *\n",
    "from qiskit  import Aer, QuantumCircuit\n",
    "from qiskit.circuit import ParameterVector"
   ]
  },
  {
   "cell_type": "markdown",
   "metadata": {},
   "source": [
    "# VNCDR on Feature Map"
   ]
  },
  {
   "cell_type": "code",
   "execution_count": 34,
   "metadata": {},
   "outputs": [
    {
     "data": {
      "text/html": [
       "<pre style=\"word-wrap: normal;white-space: pre;background: #fff0;line-height: 1.1;font-family: &quot;Courier New&quot;,Courier,monospace\">     ┌───┐┌─────────┐                        ┌───┐┌─────────┐     »\n",
       "q_0: ┤ H ├┤ Rz(0.2) ├──■──────────────────■──┤ H ├┤ Rz(0.2) ├──■──»\n",
       "     ├───┤├─────────┤┌─┴─┐┌────────────┐┌─┴─┐├───┤├─────────┤┌─┴─┐»\n",
       "q_1: ┤ H ├┤ Rz(0.4) ├┤ X ├┤ Rz(17.894) ├┤ X ├┤ H ├┤ Rz(0.4) ├┤ X ├»\n",
       "     └───┘└─────────┘└───┘└────────────┘└───┘└───┘└─────────┘└───┘»\n",
       "«                        \n",
       "«q_0: ────────────────■──\n",
       "«     ┌────────────┐┌─┴─┐\n",
       "«q_1: ┤ Rz(17.894) ├┤ X ├\n",
       "«     └────────────┘└───┘</pre>"
      ],
      "text/plain": [
       "     ┌───┐┌─────────┐                        ┌───┐┌─────────┐     »\n",
       "q_0: ┤ H ├┤ Rz(0.2) ├──■──────────────────■──┤ H ├┤ Rz(0.2) ├──■──»\n",
       "     ├───┤├─────────┤┌─┴─┐┌────────────┐┌─┴─┐├───┤├─────────┤┌─┴─┐»\n",
       "q_1: ┤ H ├┤ Rz(0.4) ├┤ X ├┤ Rz(17.894) ├┤ X ├┤ H ├┤ Rz(0.4) ├┤ X ├»\n",
       "     └───┘└─────────┘└───┘└────────────┘└───┘└───┘└─────────┘└───┘»\n",
       "«                        \n",
       "«q_0: ────────────────■──\n",
       "«     ┌────────────┐┌─┴─┐\n",
       "«q_1: ┤ Rz(17.894) ├┤ X ├\n",
       "«     └────────────┘└───┘"
      ]
     },
     "execution_count": 34,
     "metadata": {},
     "output_type": "execute_result"
    }
   ],
   "source": [
    "pi = np.pi\n",
    "feature_dim = 2\n",
    "reps = 2\n",
    "duplicates = 1\n",
    "feature_map_circuit = QuantumCircuit(feature_dim, name='feature_map_circuit')\n",
    "# x = ParameterVector('x', feature_dim * reps)\n",
    "x = [0.1, 0.2]\n",
    "\n",
    "for i in range(reps):\n",
    "    for i in range(feature_dim):\n",
    "        feature_map_circuit.h(i)\n",
    "\n",
    "    feature_map_circuit.rz(2.0*x[0], 0)\n",
    "    feature_map_circuit.rz(2.0*x[1], 1)\n",
    "    feature_map_circuit.cnot(0, 1)\n",
    "    feature_map_circuit.rz(2.0*(pi - x[0])*(pi - x[1]), 1)\n",
    "    feature_map_circuit.cnot(0, 1)\n",
    "\n",
    "feature_map_circuit.draw()"
   ]
  },
  {
   "cell_type": "code",
   "execution_count": 32,
   "metadata": {},
   "outputs": [
    {
     "name": "stdout",
     "output_type": "stream",
     "text": [
      "OPENQASM 2.0;\n",
      "include \"qelib1.inc\";\n",
      "qreg q[2];\n",
      "h q[0];\n",
      "h q[1];\n",
      "rz(0.2) q[0];\n",
      "rz(0.4) q[1];\n",
      "cx q[0],q[1];\n",
      "rz(17.894253) q[1];\n",
      "cx q[0],q[1];\n",
      "h q[0];\n",
      "h q[1];\n",
      "rz(0.2) q[0];\n",
      "rz(0.4) q[1];\n",
      "cx q[0],q[1];\n",
      "rz(17.894253) q[1];\n",
      "cx q[0],q[1];\n",
      "\n",
      "q_0: ───H───Rz(0.064π)───@──────────────@───H───Rz(0.064π)───@──────────────@───H───Rz(0.064π)───@──────────────@───H───Rz(0.064π)───@──────────────@───H───Rz(0.064π)───@──────────────@───H───Rz(0.064π)───@──────────────@───\n",
      "                         │              │                    │              │                    │              │                    │              │                    │              │                    │              │\n",
      "q_1: ───H───Rz(0.127π)───X───Rz(1.7π)───X───H───Rz(0.127π)───X───Rz(1.7π)───X───H───Rz(0.127π)───X───Rz(1.7π)───X───H───Rz(0.127π)───X───Rz(1.7π)───X───H───Rz(0.127π)───X───Rz(1.7π)───X───H───Rz(0.127π)───X───Rz(1.7π)───X───\n"
     ]
    }
   ],
   "source": [
    "qasm_feature_map = feature_map_circuit.qasm(filename='feature_map.qasm')\n",
    "print(qasm_feature_map)\n",
    "cirq_feature_map = circuit_from_qasm(qasm_feature_map)\n",
    "cirq_3_feature_map = cirq_feature_map * 3\n",
    "print(cirq_3_feature_map)"
   ]
  },
  {
   "cell_type": "code",
   "execution_count": 26,
   "metadata": {},
   "outputs": [
    {
     "data": {
      "text/plain": [
       "array([[ 0.742+0.j   , -0.03 +0.138j,  0.02 +0.109j, -0.207-0.289j],\n",
       "       [-0.03 -0.138j,  0.044-0.j   ,  0.02 -0.006j, -0.043+0.052j],\n",
       "       [ 0.02 -0.109j,  0.02 +0.006j,  0.031-0.j   , -0.047+0.023j],\n",
       "       [-0.207+0.289j, -0.043-0.052j, -0.047-0.023j,  0.184+0.j   ]],\n",
       "      dtype=complex64)"
      ]
     },
     "execution_count": 26,
     "metadata": {},
     "output_type": "execute_result"
    }
   ],
   "source": [
    "from mitiq.interface.mitiq_cirq import compute_density_matrix\n",
    "\n",
    "compute_density_matrix(cirq_feature_map).round(3)\n"
   ]
  },
  {
   "cell_type": "code",
   "execution_count": 27,
   "metadata": {},
   "outputs": [
    {
     "name": "stdout",
     "output_type": "stream",
     "text": [
      "Z(q(0))*Z(q(1))\n"
     ]
    }
   ],
   "source": [
    "obs = Observable(PauliString(\"ZZ\"))\n",
    "print(obs)"
   ]
  },
  {
   "cell_type": "code",
   "execution_count": 28,
   "metadata": {},
   "outputs": [
    {
     "data": {
      "text/plain": [
       "array([[ 0.75 +0.j   , -0.045+0.15j ,  0.007+0.109j, -0.235-0.309j],\n",
       "       [-0.045-0.15j ,  0.033-0.j   ,  0.021-0.008j, -0.048+0.066j],\n",
       "       [ 0.007-0.109j,  0.021+0.008j,  0.016+0.j   , -0.047+0.031j],\n",
       "       [-0.235+0.309j, -0.048-0.066j, -0.047-0.031j,  0.201-0.j   ]],\n",
       "      dtype=complex64)"
      ]
     },
     "execution_count": 28,
     "metadata": {},
     "output_type": "execute_result"
    }
   ],
   "source": [
    "def simulate(circuit: cirq.Circuit) -> np.ndarray:\n",
    "    return compute_density_matrix(circuit, noise_level=(0.0,))\n",
    "\n",
    "simulate(cirq_feature_map).round(3)"
   ]
  },
  {
   "cell_type": "code",
   "execution_count": 29,
   "metadata": {},
   "outputs": [
    {
     "name": "stdout",
     "output_type": "stream",
     "text": [
      "ideal_measurement =  0.9027009084820747\n"
     ]
    }
   ],
   "source": [
    "ideal_measurement = obs.expectation(cirq_feature_map, simulate).real\n",
    "print(\"ideal_measurement = \",ideal_measurement)"
   ]
  },
  {
   "cell_type": "code",
   "execution_count": 30,
   "metadata": {},
   "outputs": [
    {
     "name": "stdout",
     "output_type": "stream",
     "text": [
      "unmitigated_measurement =  0.8512219544500113\n"
     ]
    }
   ],
   "source": [
    "unmitigated_measurement = obs.expectation(cirq_feature_map, compute_density_matrix).real\n",
    "print(\"unmitigated_measurement = \", unmitigated_measurement)"
   ]
  },
  {
   "cell_type": "code",
   "execution_count": 31,
   "metadata": {},
   "outputs": [
    {
     "name": "stderr",
     "output_type": "stream",
     "text": [
      "/Users/Shared/anaconda3/envs/mitiq-env/lib/python3.8/site-packages/numpy/core/_asarray.py:102: ComplexWarning: Casting complex values to real discards the imaginary part\n",
      "  return array(a, dtype, copy=False, order=order)\n"
     ]
    },
    {
     "name": "stdout",
     "output_type": "stream",
     "text": [
      "mitigated_measurement =  0.9447179995878725\n"
     ]
    }
   ],
   "source": [
    "mitigated_measurement = cdr.execute_with_cdr(\n",
    "    cirq_feature_map,\n",
    "    compute_density_matrix,\n",
    "    observable=obs,\n",
    "    simulator=simulate,\n",
    "    seed=0,\n",
    ").real\n",
    "print(\"mitigated_measurement = \", mitigated_measurement)\n"
   ]
  },
  {
   "cell_type": "code",
   "execution_count": 36,
   "metadata": {},
   "outputs": [
    {
     "name": "stderr",
     "output_type": "stream",
     "text": [
      "/Users/Shared/anaconda3/envs/mitiq-env/lib/python3.8/site-packages/numpy/core/_asarray.py:102: ComplexWarning: Casting complex values to real discards the imaginary part\n",
      "  return array(a, dtype, copy=False, order=order)\n"
     ]
    },
    {
     "name": "stdout",
     "output_type": "stream",
     "text": [
      "vncdr =  0.9026062206502856\n"
     ]
    }
   ],
   "source": [
    "from mitiq.zne import scaling\n",
    "\n",
    "vncdr = cdr.execute_with_cdr(\n",
    "    cirq_feature_map,\n",
    "    compute_density_matrix,\n",
    "    observable=obs,\n",
    "    simulator=simulate,\n",
    "    seed=0,\n",
    "    scale_factors=(1.0, 3.0),\n",
    ").real\n",
    "\n",
    "print(\"vncdr = \", vncdr)\n"
   ]
  },
  {
   "cell_type": "code",
   "execution_count": 37,
   "metadata": {},
   "outputs": [
    {
     "name": "stdout",
     "output_type": "stream",
     "text": [
      "Error (unmitigated): 0.051478954032063484\n",
      "Error (mitigated with CDR): 0.042017091105797766\n",
      "Error (mitigated with VNCDR): 9.468783178911977e-05\n",
      "Relative error (unmitigated): 0.05702769715677728\n",
      "Relative error (mitigated with CDR): 0.046545971883922295\n",
      "Relative error (mitigated with VNCDR): 0.00010489391436233391\n",
      "Error reduction with CDR: 18.4%.\n",
      "Error reduction with VNCDR: 99.8%.\n"
     ]
    }
   ],
   "source": [
    "error_unmitigated = abs(unmitigated_measurement-ideal_measurement)\n",
    "error_mitigated = abs(mitigated_measurement-ideal_measurement)\n",
    "error_vn_mitigated = abs(vncdr-ideal_measurement)\n",
    "\n",
    "print(\"Error (unmitigated):\", error_unmitigated)\n",
    "print(\"Error (mitigated with CDR):\", error_mitigated)\n",
    "print(\"Error (mitigated with VNCDR):\", error_vn_mitigated)\n",
    "\n",
    "print(\"Relative error (unmitigated):\", (error_unmitigated/ideal_measurement))\n",
    "print(\"Relative error (mitigated with CDR):\",\n",
    "      error_mitigated/ideal_measurement)\n",
    "print(\"Relative error (mitigated with VNCDR):\",\n",
    "      error_vn_mitigated/ideal_measurement)\n",
    "\n",
    "print(\n",
    "    f\"Error reduction with CDR: {(error_unmitigated-error_mitigated)/error_unmitigated :.1%}.\")\n",
    "print(\n",
    "    f\"Error reduction with VNCDR: {(error_unmitigated-error_vn_mitigated)/error_unmitigated :.1%}.\")\n"
   ]
  },
  {
   "cell_type": "markdown",
   "metadata": {},
   "source": [
    "# VNCDR on Ansatz"
   ]
  },
  {
   "cell_type": "code",
   "execution_count": 38,
   "metadata": {},
   "outputs": [
    {
     "data": {
      "text/html": [
       "<pre style=\"word-wrap: normal;white-space: pre;background: #fff0;line-height: 1.1;font-family: &quot;Courier New&quot;,Courier,monospace\">     ┌─────────┐     ┌─────────┐\n",
       "q_0: ┤ Ry(0.7) ├──■──┤ Ry(0.5) ├\n",
       "     ├─────────┤┌─┴─┐├─────────┤\n",
       "q_1: ┤ Ry(0.3) ├┤ X ├┤ Ry(1.2) ├\n",
       "     └─────────┘└───┘└─────────┘</pre>"
      ],
      "text/plain": [
       "     ┌─────────┐     ┌─────────┐\n",
       "q_0: ┤ Ry(0.7) ├──■──┤ Ry(0.5) ├\n",
       "     ├─────────┤┌─┴─┐├─────────┤\n",
       "q_1: ┤ Ry(0.3) ├┤ X ├┤ Ry(1.2) ├\n",
       "     └─────────┘└───┘└─────────┘"
      ]
     },
     "execution_count": 38,
     "metadata": {},
     "output_type": "execute_result"
    }
   ],
   "source": [
    "num_qubits = 2\n",
    "ansatz_circuit = QuantumCircuit(num_qubits, name='ansatz_circuit')\n",
    "reps = 1\n",
    "# params = ParameterVector('θ', num_qubits + num_qubits * reps)\n",
    "params = [0.7, 0.3, 0.5, 1.2]\n",
    "counter = 0\n",
    "\n",
    "for i in range(num_qubits):\n",
    "    ansatz_circuit.ry(params[counter], i)\n",
    "    counter += 1\n",
    "\n",
    "for j in range(reps):\n",
    "    for k in range(num_qubits-1):\n",
    "        ansatz_circuit.cnot(k, k+1)\n",
    "    for m in range(num_qubits):\n",
    "        ansatz_circuit.ry(params[counter], m)\n",
    "        counter += 1\n",
    "\n",
    "ansatz_circuit.draw()"
   ]
  },
  {
   "cell_type": "code",
   "execution_count": 58,
   "metadata": {},
   "outputs": [
    {
     "name": "stdout",
     "output_type": "stream",
     "text": [
      "OPENQASM 2.0;\n",
      "include \"qelib1.inc\";\n",
      "qreg q[2];\n",
      "ry(0.7) q[0];\n",
      "ry(0.3) q[1];\n",
      "cx q[0],q[1];\n",
      "ry(0.5) q[0];\n",
      "ry(1.2) q[1];\n",
      "\n",
      "q_0: ───Ry(0.223π)───@───Ry(0.159π)───\n",
      "                     │\n",
      "q_1: ───Ry(0.095π)───X───Ry(0.382π)───\n"
     ]
    }
   ],
   "source": [
    "qasm_ansatz = ansatz_circuit.qasm(filename='ansatz.qasm')\n",
    "print(qasm_ansatz)\n",
    "cirq_ansatz = circuit_from_qasm(qasm_ansatz) * 1\n",
    "print(cirq_ansatz)\n"
   ]
  },
  {
   "cell_type": "code",
   "execution_count": 59,
   "metadata": {},
   "outputs": [
    {
     "data": {
      "text/plain": [
       "array([[0.498+0.j, 0.381+0.j, 0.022+0.j, 0.315+0.j],\n",
       "       [0.381+0.j, 0.296+0.j, 0.015+0.j, 0.243+0.j],\n",
       "       [0.022+0.j, 0.015+0.j, 0.004+0.j, 0.013+0.j],\n",
       "       [0.315+0.j, 0.243+0.j, 0.013+0.j, 0.201+0.j]], dtype=complex64)"
      ]
     },
     "execution_count": 59,
     "metadata": {},
     "output_type": "execute_result"
    }
   ],
   "source": [
    "compute_density_matrix(cirq_ansatz).round(3)"
   ]
  },
  {
   "cell_type": "code",
   "execution_count": 60,
   "metadata": {},
   "outputs": [
    {
     "data": {
      "text/plain": [
       "array([[0.494+0.j, 0.382+0.j, 0.018+0.j, 0.322+0.j],\n",
       "       [0.382+0.j, 0.296+0.j, 0.014+0.j, 0.249+0.j],\n",
       "       [0.018+0.j, 0.014+0.j, 0.001+0.j, 0.012+0.j],\n",
       "       [0.322+0.j, 0.249+0.j, 0.012+0.j, 0.209+0.j]], dtype=complex64)"
      ]
     },
     "execution_count": 60,
     "metadata": {},
     "output_type": "execute_result"
    }
   ],
   "source": [
    "simulate(cirq_ansatz).round(3)"
   ]
  },
  {
   "cell_type": "code",
   "execution_count": 61,
   "metadata": {},
   "outputs": [
    {
     "name": "stdout",
     "output_type": "stream",
     "text": [
      "ideal_measurement =  0.40678397472947836\n"
     ]
    }
   ],
   "source": [
    "ideal_measurement = obs.expectation(cirq_ansatz, simulate).real\n",
    "print(\"ideal_measurement = \",ideal_measurement)"
   ]
  },
  {
   "cell_type": "code",
   "execution_count": 62,
   "metadata": {},
   "outputs": [
    {
     "name": "stdout",
     "output_type": "stream",
     "text": [
      "unmitigated_measurement =  0.3995709279552102\n"
     ]
    }
   ],
   "source": [
    "unmitigated_measurement = obs.expectation(cirq_ansatz, compute_density_matrix).real\n",
    "print(\"unmitigated_measurement = \", unmitigated_measurement)"
   ]
  },
  {
   "cell_type": "code",
   "execution_count": 63,
   "metadata": {},
   "outputs": [
    {
     "name": "stdout",
     "output_type": "stream",
     "text": [
      "mitigated_measurement =  2.801286977714698\n"
     ]
    },
    {
     "name": "stderr",
     "output_type": "stream",
     "text": [
      "/Users/Shared/anaconda3/envs/mitiq-env/lib/python3.8/site-packages/numpy/core/_asarray.py:102: ComplexWarning: Casting complex values to real discards the imaginary part\n",
      "  return array(a, dtype, copy=False, order=order)\n"
     ]
    }
   ],
   "source": [
    "mitigated_measurement = cdr.execute_with_cdr(\n",
    "    cirq_ansatz,\n",
    "    compute_density_matrix,\n",
    "    observable=obs,\n",
    "    simulator=simulate,\n",
    "    seed=0,\n",
    ").real\n",
    "print(\"mitigated_measurement = \", mitigated_measurement)\n"
   ]
  },
  {
   "cell_type": "code",
   "execution_count": 64,
   "metadata": {},
   "outputs": [
    {
     "name": "stdout",
     "output_type": "stream",
     "text": [
      "vncdr =  -0.833781183231622\n"
     ]
    },
    {
     "name": "stderr",
     "output_type": "stream",
     "text": [
      "/Users/Shared/anaconda3/envs/mitiq-env/lib/python3.8/site-packages/numpy/core/_asarray.py:102: ComplexWarning: Casting complex values to real discards the imaginary part\n",
      "  return array(a, dtype, copy=False, order=order)\n",
      "/Users/Shared/anaconda3/envs/mitiq-env/lib/python3.8/site-packages/scipy/optimize/minpack.py:833: OptimizeWarning: Covariance of the parameters could not be estimated\n",
      "  warnings.warn('Covariance of the parameters could not be estimated',\n"
     ]
    }
   ],
   "source": [
    "from mitiq.zne import scaling\n",
    "\n",
    "vncdr = cdr.execute_with_cdr(\n",
    "    cirq_ansatz,\n",
    "    compute_density_matrix,\n",
    "    observable=obs,\n",
    "    simulator=simulate,\n",
    "    seed=0,\n",
    "    scale_factors=(1.0, 3.0),\n",
    ").real\n",
    "\n",
    "print(\"vncdr = \", vncdr)\n"
   ]
  },
  {
   "cell_type": "code",
   "execution_count": 65,
   "metadata": {},
   "outputs": [
    {
     "name": "stdout",
     "output_type": "stream",
     "text": [
      "Error (unmitigated): 0.00721304677426815\n",
      "Error (mitigated with CDR): 2.3945030029852195\n",
      "Error (mitigated with VNCDR): 1.2405651579611003\n",
      "Relative error (unmitigated): 0.017731885281530593\n",
      "Relative error (mitigated with CDR): 5.886424126165798\n",
      "Relative error (mitigated with VNCDR): 3.0496903394144463\n",
      "Error reduction with CDR: -33096.8%.\n",
      "Error reduction with VNCDR: -17098.9%.\n"
     ]
    }
   ],
   "source": [
    "error_unmitigated = abs(unmitigated_measurement-ideal_measurement)\n",
    "error_mitigated = abs(mitigated_measurement-ideal_measurement)\n",
    "error_vn_mitigated = abs(vncdr-ideal_measurement)\n",
    "\n",
    "print(\"Error (unmitigated):\", error_unmitigated)\n",
    "print(\"Error (mitigated with CDR):\", error_mitigated)\n",
    "print(\"Error (mitigated with VNCDR):\", error_vn_mitigated)\n",
    "\n",
    "print(\"Relative error (unmitigated):\", (error_unmitigated/ideal_measurement))\n",
    "print(\"Relative error (mitigated with CDR):\",\n",
    "      error_mitigated/ideal_measurement)\n",
    "print(\"Relative error (mitigated with VNCDR):\",\n",
    "      error_vn_mitigated/ideal_measurement)\n",
    "\n",
    "print(\n",
    "    f\"Error reduction with CDR: {(error_unmitigated-error_mitigated)/error_unmitigated :.1%}.\")\n",
    "print(\n",
    "    f\"Error reduction with VNCDR: {(error_unmitigated-error_vn_mitigated)/error_unmitigated :.1%}.\")\n"
   ]
  },
  {
   "cell_type": "markdown",
   "metadata": {},
   "source": [
    "- Clearly VNCDR / CDR doesn't work well on low-depth circuits."
   ]
  }
 ],
 "metadata": {
  "kernelspec": {
   "display_name": "Python 3.8.13",
   "language": "python",
   "name": "python3"
  },
  "language_info": {
   "codemirror_mode": {
    "name": "ipython",
    "version": 3
   },
   "file_extension": ".py",
   "mimetype": "text/x-python",
   "name": "python",
   "nbconvert_exporter": "python",
   "pygments_lexer": "ipython3",
   "version": "3.8.13"
  },
  "orig_nbformat": 4,
  "vscode": {
   "interpreter": {
    "hash": "faa8cd151d4243c1ebbb5b4e87cb753bf5753f429ddca668cdee1b915a843926"
   }
  }
 },
 "nbformat": 4,
 "nbformat_minor": 2
}
