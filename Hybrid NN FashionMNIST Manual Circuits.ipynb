{
  "cells": [
    {
      "cell_type": "code",
      "execution_count": null,
      "metadata": {
        "id": "kEkU8Y9I8xt3"
      },
      "outputs": [],
      "source": [
        "# !pip install -r 'requirements.txt' --quiet"
      ]
    },
    {
      "cell_type": "code",
      "execution_count": 1,
      "metadata": {
        "id": "ncmziV32-sdn"
      },
      "outputs": [],
      "source": [
        "import numpy as np\n",
        "\n",
        "import torch\n",
        "from torchvision.transforms import ToTensor\n",
        "from torch import no_grad\n",
        "from torchvision import datasets\n",
        "import torch.optim as optim\n",
        "from torch.nn import (Module, Conv2d, Linear, Dropout2d, NLLLoss, MaxPool2d, Flatten, Sequential, ReLU)\n",
        "import torch.nn as nn\n",
        "import torch.nn.functional as F\n",
        "from torch.utils.data import DataLoader\n",
        "\n",
        "from qiskit import *\n",
        "from qiskit import transpile, assemble, IBMQ\n",
        "from qiskit.visualization import *\n",
        "from qiskit  import Aer, QuantumCircuit\n",
        "from qiskit.utils import QuantumInstance, algorithm_globals\n",
        "from qiskit.opflow import AerPauliExpectation\n",
        "from qiskit.circuit.library import RealAmplitudes, ZZFeatureMap\n",
        "from qiskit.circuit import ParameterVector\n",
        "from qiskit_machine_learning.neural_networks import CircuitQNN, TwoLayerQNN\n",
        "from qiskit_machine_learning.connectors import TorchConnector\n",
        "import qiskit.providers.fake_provider as fake\n",
        "from qiskit.providers.aer.noise import NoiseModel\n",
        "from qiskit.providers.aer import AerSimulator\n",
        "\n",
        "import matplotlib.pyplot as plt"
      ]
    },
    {
      "cell_type": "code",
      "execution_count": 14,
      "metadata": {},
      "outputs": [
        {
          "name": "stderr",
          "output_type": "stream",
          "text": [
            "configrc.store_credentials:WARNING:2022-07-14 13:45:59,648: Credentials already present. Set overwrite=True to overwrite.\n",
            "ibmqfactory.load_account:WARNING:2022-07-14 13:46:00,481: Credentials are already in use. The existing account in the session will be replaced.\n"
          ]
        }
      ],
      "source": [
        "provider = IBMQ.load_account()"
      ]
    },
    {
      "cell_type": "code",
      "execution_count": 26,
      "metadata": {},
      "outputs": [
        {
          "name": "stdout",
          "output_type": "stream",
          "text": [
            "aer_simulator(ibmq_manila)\n"
          ]
        }
      ],
      "source": [
        "# Declare Quantum instance\n",
        "noisy_backend = provider.get_backend('ibmq_manila')\n",
        "backend_sim = AerSimulator.from_backend(noisy_backend)\n",
        "\n",
        "qi = QuantumInstance(backend_sim)\n",
        "\n",
        "print(backend_sim)"
      ]
    },
    {
      "cell_type": "code",
      "execution_count": 2,
      "metadata": {
        "id": "Xd20_u7I-xOA"
      },
      "outputs": [],
      "source": [
        "### Training and test data downloaded from FashionMNIST and transformed into tensors ###\n",
        "training_data = datasets.FashionMNIST(\n",
        "    root=\"data\",\n",
        "    train=True,\n",
        "    download=True,\n",
        "    transform=ToTensor()\n",
        ")\n",
        "\n",
        "test_data = datasets.FashionMNIST(\n",
        "    root=\"data\",\n",
        "    train=False,\n",
        "    download=True,\n",
        "    transform=ToTensor()\n",
        ")"
      ]
    },
    {
      "cell_type": "code",
      "execution_count": 3,
      "metadata": {
        "colab": {
          "base_uri": "https://localhost:8080/",
          "height": 482
        },
        "id": "fM67SnqC-1qU",
        "outputId": "1b834eae-2e9a-431d-8984-ed79d94c91e3"
      },
      "outputs": [
        {
          "data": {
            "image/png": "[encoded data removed]",
            "text/plain": [
              "<Figure size 576x576 with 9 Axes>"
            ]
          },
          "metadata": {
            "needs_background": "light"
          },
          "output_type": "display_data"
        }
      ],
      "source": [
        "### Inspecting the images in the training data set with their labels ###\n",
        "labels_map = {\n",
        "    0: \"T-Shirt\",\n",
        "    1: \"Trouser\",\n",
        "    2: \"Pullover\",\n",
        "    3: \"Dress\",\n",
        "    4: \"Coat\",\n",
        "    5: \"Sandal\",\n",
        "    6: \"Shirt\",\n",
        "    7: \"Sneaker\",\n",
        "    8: \"Bag\",\n",
        "    9: \"Ankle Boot\",\n",
        "}\n",
        "\n",
        "figure = plt.figure(figsize=(8, 8))\n",
        "cols, rows = 3, 3\n",
        "for i in range(1, cols * rows + 1):\n",
        "    sample_idx = torch.randint(len(training_data), size=(1,)).item()\n",
        "    img, label = training_data[sample_idx]\n",
        "    figure.add_subplot(rows, cols, i)\n",
        "    plt.title(labels_map[label])\n",
        "    plt.axis(\"off\")\n",
        "    plt.imshow(img.squeeze(), cmap=\"gray\")\n",
        "plt.show()"
      ]
    },
    {
      "cell_type": "code",
      "execution_count": 4,
      "metadata": {
        "id": "OiZpcaW8-6As"
      },
      "outputs": [],
      "source": [
        "### Load training data into Torch DataLoader ###\n",
        "X_train = training_data\n",
        "n_samples = 500\n",
        "batch_size = 64\n",
        "\n",
        "# Filter out labels (originally 0-9), leaving only labels 0 and 1\n",
        "idx = np.append(np.where(X_train.targets == 0)[0][:n_samples],\n",
        "                np.where(X_train.targets == 1)[0][:n_samples])\n",
        "\n",
        "X_train.data = X_train.data[idx]\n",
        "X_train.targets = X_train.targets[idx]\n",
        "\n",
        "# A torch dataloader is defined with filtered data\n",
        "train_loader = DataLoader(X_train, batch_size=64, shuffle=True)"
      ]
    },
    {
      "cell_type": "code",
      "execution_count": 30,
      "metadata": {
        "id": "JWDp-YBZ-8MO"
      },
      "outputs": [],
      "source": [
        "# Load test data into Torch DataLoader\n",
        "X_test = test_data\n",
        "\n",
        "# Filter out labels (originally 0-9), leaving only labels 0 and 1\n",
        "idx = np.append(np.where(X_test.targets == 0)[0][:n_samples],\n",
        "                np.where(X_test.targets == 1)[0][:n_samples])\n",
        "\n",
        "X_test.data = X_test.data[idx]\n",
        "X_test.targets = X_test.targets[idx]\n",
        "\n",
        "# Define torch dataloader with filtered data\n",
        "test_loader = DataLoader(X_test, batch_size=64, shuffle=True)"
      ]
    },
    {
      "cell_type": "markdown",
      "metadata": {},
      "source": [
        "# Using Qiskit's Circuit Library for Feature Map & Ansatz"
      ]
    },
    {
      "cell_type": "code",
      "execution_count": 52,
      "metadata": {
        "colab": {
          "base_uri": "https://localhost:8080/"
        },
        "id": "t58Ch9-0_Mjj",
        "outputId": "42b2ed62-d6cf-4cde-9d9d-7f794b06875c"
      },
      "outputs": [
        {
          "name": "stdout",
          "output_type": "stream",
          "text": [
            "     ┌───┐┌─────────────┐                                          ┌───┐»\n",
            "q_0: ┤ H ├┤ P(2.0*x[0]) ├──■────────────────────────────────────■──┤ H ├»\n",
            "     ├───┤├─────────────┤┌─┴─┐┌──────────────────────────────┐┌─┴─┐├───┤»\n",
            "q_1: ┤ H ├┤ P(2.0*x[1]) ├┤ X ├┤ P(2.0*(π - x[0])*(π - x[1])) ├┤ X ├┤ H ├»\n",
            "     └───┘└─────────────┘└───┘└──────────────────────────────┘└───┘└───┘»\n",
            "«     ┌─────────────┐                                          \n",
            "«q_0: ┤ P(2.0*x[0]) ├──■────────────────────────────────────■──\n",
            "«     ├─────────────┤┌─┴─┐┌──────────────────────────────┐┌─┴─┐\n",
            "«q_1: ┤ P(2.0*x[1]) ├┤ X ├┤ P(2.0*(π - x[0])*(π - x[1])) ├┤ X ├\n",
            "«     └─────────────┘└───┘└──────────────────────────────┘└───┘\n",
            "     ┌──────────┐     ┌──────────┐\n",
            "q_0: ┤ Ry(θ[0]) ├──■──┤ Ry(θ[2]) ├\n",
            "     ├──────────┤┌─┴─┐├──────────┤\n",
            "q_1: ┤ Ry(θ[1]) ├┤ X ├┤ Ry(θ[3]) ├\n",
            "     └──────────┘└───┘└──────────┘\n",
            "ComposedOp([\n",
            "  OperatorMeasurement(1.0 * ZZ),\n",
            "  CircuitStateFn(\n",
            "       ┌──────────────────────────┐┌──────────────────────────────────────┐\n",
            "  q_0: ┤0                         ├┤0                                     ├\n",
            "       │  ZZFeatureMap(x[0],x[1]) ││  RealAmplitudes(θ[0],θ[1],θ[2],θ[3]) │\n",
            "  q_1: ┤1                         ├┤1                                     ├\n",
            "       └──────────────────────────┘└──────────────────────────────────────┘\n",
            "  )\n",
            "])\n"
          ]
        }
      ],
      "source": [
        "### Two layer QNN constructed ###\n",
        "feature_map_lib = ZZFeatureMap(feature_dimension=2, entanglement='linear')\n",
        "ansatz_lib = RealAmplitudes(2, reps=1, entanglement='linear')\n",
        "print(feature_map_lib.decompose())\n",
        "print(ansatz_lib.decompose())\n",
        "qnn2 = TwoLayerQNN(2, feature_map_lib, ansatz_lib, input_gradients=True,\n",
        "                   exp_val=AerPauliExpectation(), quantum_instance=qi)\n",
        "print(qnn2.operator)"
      ]
    },
    {
      "cell_type": "code",
      "execution_count": 48,
      "metadata": {
        "id": "R7TCFuw__OQL"
      },
      "outputs": [],
      "source": [
        "### Torch NN module from Qiskit ###\n",
        "class Net(Module):\n",
        "\n",
        "    def __init__(self):\n",
        "        super().__init__()\n",
        "        self.conv1 = Conv2d(1, 2, kernel_size=5)\n",
        "        self.conv2 = Conv2d(2, 16, kernel_size=5)\n",
        "        self.dropout = Dropout2d()\n",
        "        self.fc1 = Linear(256, 64)\n",
        "        self.fc2 = Linear(64, 2)         # 2-dimensional input to QNN\n",
        "        # Apply torch connector, weights chosen\n",
        "        self.qnn = TorchConnector(qnn2)\n",
        "        # uniformly at random from interval [-1,1].\n",
        "        self.fc3 = Linear(1, 1)\n",
        "        # 1-dimensional output from QNN\n",
        "\n",
        "    def forward(self, x):\n",
        "        x = F.relu(self.conv1(x))\n",
        "        x = F.max_pool2d(x, 2)\n",
        "        x = F.relu(self.conv2(x))\n",
        "        x = F.max_pool2d(x, 2)\n",
        "        x = self.dropout(x)\n",
        "        x = x.view(x.shape[0], -1)\n",
        "        x = F.relu(self.fc1(x))\n",
        "        x = self.fc2(x)\n",
        "        x = self.qnn(x)  # apply QNN\n",
        "        x = self.fc3(x)\n",
        "        return torch.cat((x, 1 - x), -1)"
      ]
    },
    {
      "cell_type": "code",
      "execution_count": 35,
      "metadata": {
        "colab": {
          "base_uri": "https://localhost:8080/"
        },
        "id": "YwX5zShO_P2m",
        "outputId": "bfe7271b-bee6-4a2f-96dc-4b4277e6af08"
      },
      "outputs": [
        {
          "name": "stdout",
          "output_type": "stream",
          "text": [
            "Training [5%]\tLoss: -0.6933\n",
            "Training [10%]\tLoss: -0.8374\n",
            "Training [15%]\tLoss: -0.8829\n",
            "Training [20%]\tLoss: -0.9190\n",
            "Training [25%]\tLoss: -0.9443\n",
            "Training [30%]\tLoss: -0.9708\n",
            "Training [35%]\tLoss: -1.0039\n",
            "Training [40%]\tLoss: -1.0222\n",
            "Training [45%]\tLoss: -1.0514\n",
            "Training [50%]\tLoss: -1.0776\n",
            "Training [55%]\tLoss: -1.1105\n",
            "Training [60%]\tLoss: -1.1268\n",
            "Training [65%]\tLoss: -1.1589\n",
            "Training [70%]\tLoss: -1.1783\n",
            "Training [75%]\tLoss: -1.2044\n",
            "Training [80%]\tLoss: -1.2286\n",
            "Training [85%]\tLoss: -1.2615\n",
            "Training [90%]\tLoss: -1.2790\n",
            "Training [95%]\tLoss: -1.3097\n",
            "Training [100%]\tLoss: -1.3232\n"
          ]
        }
      ],
      "source": [
        "### Model trained and the loss computed ###\n",
        "model = Net()\n",
        "optimizer = optim.Adam(model.parameters(), lr=0.001)\n",
        "loss_func = nn.NLLLoss()\n",
        "\n",
        "epochs = 20\n",
        "loss_list = []\n",
        "\n",
        "model.train()\n",
        "for epoch in range(epochs):\n",
        "    total_loss = []\n",
        "    for batch_idx, (data, target) in enumerate(train_loader):\n",
        "        optimizer.zero_grad()\n",
        "        # Forward pass\n",
        "        output = model(data)\n",
        "        # Calculating loss\n",
        "        loss = loss_func(output, target)\n",
        "        # Backward pass\n",
        "        loss.backward()\n",
        "        # Optimize the weights\n",
        "        optimizer.step()\n",
        "\n",
        "        total_loss.append(loss.item())\n",
        "    loss_list.append(sum(total_loss)/len(total_loss))\n",
        "    print('Training [{:.0f}%]\\tLoss: {:.4f}'.format(\n",
        "        100. * (epoch + 1) / epochs, loss_list[-1]))\n"
      ]
    },
    {
      "cell_type": "code",
      "execution_count": 36,
      "metadata": {
        "colab": {
          "base_uri": "https://localhost:8080/",
          "height": 295
        },
        "id": "gS2fX06B_RPn",
        "outputId": "90b9e918-f97f-4669-9a48-afe02cf1a5f3"
      },
      "outputs": [
        {
          "data": {
            "image/png": "[encoded data removed]",
            "text/plain": [
              "<Figure size 432x288 with 1 Axes>"
            ]
          },
          "metadata": {
            "needs_background": "light"
          },
          "output_type": "display_data"
        }
      ],
      "source": [
        "### Loss convergence plotted ###\n",
        "plt.plot(loss_list)\n",
        "plt.title('Hybrid NN Training Convergence')\n",
        "plt.xlabel('Training Iterations')\n",
        "plt.ylabel('Neg. Log Likelihood Loss')\n",
        "plt.show()"
      ]
    },
    {
      "cell_type": "code",
      "execution_count": 37,
      "metadata": {
        "colab": {
          "base_uri": "https://localhost:8080/"
        },
        "id": "_SGwgOk_CQPY",
        "outputId": "5491b63d-201d-49d8-fba8-fe1ea3c503bf"
      },
      "outputs": [
        {
          "name": "stdout",
          "output_type": "stream",
          "text": [
            "Performance on test data:\n",
            "\tLoss: -1.3218\n",
            "\tAccuracy: 92.3%\n"
          ]
        }
      ],
      "source": [
        "### Model evaluated ###\n",
        "model.eval()\n",
        "with torch.no_grad():\n",
        "    \n",
        "    correct = 0\n",
        "    for batch_idx, (data, target) in enumerate(test_loader):\n",
        "        output = model(data)\n",
        "        \n",
        "        pred = output.argmax(dim=1, keepdim=True) \n",
        "        correct += pred.eq(target.view_as(pred)).sum().item()\n",
        "        \n",
        "        loss = loss_func(output, target)\n",
        "        total_loss.append(loss.item())\n",
        "        \n",
        "    print('Performance on test data:\\n\\tLoss: {:.4f}\\n\\tAccuracy: {:.1f}%'.format(\n",
        "        sum(total_loss) / len(total_loss),\n",
        "        (correct / len(test_loader) / batch_size) * 100))\n"
      ]
    },
    {
      "cell_type": "code",
      "execution_count": 38,
      "metadata": {
        "colab": {
          "base_uri": "https://localhost:8080/",
          "height": 170
        },
        "id": "4x4zpOV1CUWf",
        "outputId": "c2ff8978-896e-4bd3-8618-68baf177aa18"
      },
      "outputs": [
        {
          "data": {
            "image/png": "[encoded data removed]",
            "text/plain": [
              "<Figure size 1080x360 with 6 Axes>"
            ]
          },
          "metadata": {},
          "output_type": "display_data"
        }
      ],
      "source": [
        "### Predicted images displayed. Either T-shirt or Trouser ###\n",
        "n_samples_show = 6\n",
        "count = 0\n",
        "fig, axes = plt.subplots(nrows=1, ncols=n_samples_show, figsize=(15, 5))\n",
        "\n",
        "model.eval()\n",
        "with no_grad():\n",
        "    for batch_idx, (data, target) in enumerate(test_loader):\n",
        "        if count == n_samples_show:\n",
        "            break\n",
        "        output = model(data[0:1])\n",
        "        if len(output.shape) == 1:\n",
        "            output = output.reshape(1, *output.shape)\n",
        "\n",
        "        pred = output.argmax(dim=1, keepdim=True)\n",
        "        axes[count].imshow(data[0].numpy().squeeze(), cmap='gray')\n",
        "\n",
        "        axes[count].set_xticks([])\n",
        "        axes[count].set_yticks([])\n",
        "        if pred.item() == 0:\n",
        "            axes[count].set_title('Predicted item: T-Shirt')  \n",
        "        elif pred.item() == 1:\n",
        "            axes[count].set_title('Predicted item: Trouser')  \n",
        "        count += 1"
      ]
    },
    {
      "cell_type": "markdown",
      "metadata": {},
      "source": [
        "# Manual Composition of the Feature Map & Ansatz"
      ]
    },
    {
      "cell_type": "code",
      "execution_count": 54,
      "metadata": {},
      "outputs": [
        {
          "data": {
            "text/html": [
              "<pre style=\"word-wrap: normal;white-space: pre;background: #fff0;line-height: 1.1;font-family: &quot;Courier New&quot;,Courier,monospace\">     ┌───┐┌─────────────┐                                          ┌───┐»\n",
              "q_0: ┤ H ├┤ P(2.0*x[0]) ├──■────────────────────────────────────■──┤ H ├»\n",
              "     ├───┤├─────────────┤┌─┴─┐┌──────────────────────────────┐┌─┴─┐├───┤»\n",
              "q_1: ┤ H ├┤ P(2.0*x[1]) ├┤ X ├┤ P(2.0*(π - x[0])*(π - x[1])) ├┤ X ├┤ H ├»\n",
              "     └───┘└─────────────┘└───┘└──────────────────────────────┘└───┘└───┘»\n",
              "«     ┌─────────────┐                                          \n",
              "«q_0: ┤ P(2.0*x[0]) ├──■────────────────────────────────────■──\n",
              "«     ├─────────────┤┌─┴─┐┌──────────────────────────────┐┌─┴─┐\n",
              "«q_1: ┤ P(2.0*x[1]) ├┤ X ├┤ P(2.0*(π - x[0])*(π - x[1])) ├┤ X ├\n",
              "«     └─────────────┘└───┘└──────────────────────────────┘└───┘</pre>"
            ],
            "text/plain": [
              "     ┌───┐┌─────────────┐                                          ┌───┐»\n",
              "q_0: ┤ H ├┤ P(2.0*x[0]) ├──■────────────────────────────────────■──┤ H ├»\n",
              "     ├───┤├─────────────┤┌─┴─┐┌──────────────────────────────┐┌─┴─┐├───┤»\n",
              "q_1: ┤ H ├┤ P(2.0*x[1]) ├┤ X ├┤ P(2.0*(π - x[0])*(π - x[1])) ├┤ X ├┤ H ├»\n",
              "     └───┘└─────────────┘└───┘└──────────────────────────────┘└───┘└───┘»\n",
              "«     ┌─────────────┐                                          \n",
              "«q_0: ┤ P(2.0*x[0]) ├──■────────────────────────────────────■──\n",
              "«     ├─────────────┤┌─┴─┐┌──────────────────────────────┐┌─┴─┐\n",
              "«q_1: ┤ P(2.0*x[1]) ├┤ X ├┤ P(2.0*(π - x[0])*(π - x[1])) ├┤ X ├\n",
              "«     └─────────────┘└───┘└──────────────────────────────┘└───┘"
            ]
          },
          "execution_count": 54,
          "metadata": {},
          "output_type": "execute_result"
        }
      ],
      "source": [
        "pi = np.pi\n",
        "feature_dim = 2\n",
        "reps = 2\n",
        "duplicates = 1\n",
        "feature_map_circuit = QuantumCircuit(feature_dim, name='feature_map_circuit')\n",
        "x = ParameterVector('x', feature_dim * reps)\n",
        "\n",
        "for i in range(reps):\n",
        "    for i in range(feature_dim):\n",
        "        feature_map_circuit.h(i)\n",
        "\n",
        "    feature_map_circuit.p(2.0*x[0], 0)\n",
        "    feature_map_circuit.p(2.0*x[1], 1)\n",
        "    feature_map_circuit.cnot(0, 1)\n",
        "    feature_map_circuit.p(2.0*(pi - x[0])*(pi - x[1]), 1)\n",
        "    feature_map_circuit.cnot(0, 1)\n",
        "\n",
        "feature_map_circuit.draw()"
      ]
    },
    {
      "cell_type": "code",
      "execution_count": 55,
      "metadata": {},
      "outputs": [
        {
          "data": {
            "text/html": [
              "<pre style=\"word-wrap: normal;white-space: pre;background: #fff0;line-height: 1.1;font-family: &quot;Courier New&quot;,Courier,monospace\">     ┌──────────┐     ┌──────────┐\n",
              "q_0: ┤ Ry(θ[0]) ├──■──┤ Ry(θ[2]) ├\n",
              "     ├──────────┤┌─┴─┐├──────────┤\n",
              "q_1: ┤ Ry(θ[1]) ├┤ X ├┤ Ry(θ[3]) ├\n",
              "     └──────────┘└───┘└──────────┘</pre>"
            ],
            "text/plain": [
              "     ┌──────────┐     ┌──────────┐\n",
              "q_0: ┤ Ry(θ[0]) ├──■──┤ Ry(θ[2]) ├\n",
              "     ├──────────┤┌─┴─┐├──────────┤\n",
              "q_1: ┤ Ry(θ[1]) ├┤ X ├┤ Ry(θ[3]) ├\n",
              "     └──────────┘└───┘└──────────┘"
            ]
          },
          "execution_count": 55,
          "metadata": {},
          "output_type": "execute_result"
        }
      ],
      "source": [
        "num_qubits = 2\n",
        "ansatz_circuit = QuantumCircuit(num_qubits, name='ansatz_circuit')\n",
        "reps = 1\n",
        "params = ParameterVector('θ', num_qubits + num_qubits * reps)\n",
        "counter = 0\n",
        "\n",
        "for i in range(num_qubits):\n",
        "    ansatz_circuit.ry(params[counter], i)\n",
        "    counter += 1\n",
        "\n",
        "for j in range(reps):\n",
        "    for k in range(num_qubits-1):\n",
        "        ansatz_circuit.cnot(k, k+1)\n",
        "    for m in range(num_qubits):\n",
        "        ansatz_circuit.ry(params[counter], m)\n",
        "        counter += 1\n",
        "\n",
        "ansatz_circuit.draw()"
      ]
    },
    {
      "cell_type": "code",
      "execution_count": 56,
      "metadata": {},
      "outputs": [
        {
          "name": "stdout",
          "output_type": "stream",
          "text": [
            "ComposedOp([\n",
            "  OperatorMeasurement(1.0 * ZZ),\n",
            "  CircuitStateFn(\n",
            "       ┌─────────────────────────────────┐»\n",
            "  q_0: ┤0                                ├»\n",
            "       │  feature_map_circuit(x[0],x[1]) │»\n",
            "  q_1: ┤1                                ├»\n",
            "       └─────────────────────────────────┘»\n",
            "  «     ┌──────────────────────────────────────┐\n",
            "  «q_0: ┤0                                     ├\n",
            "  «     │  ansatz_circuit(θ[0],θ[1],θ[2],θ[3]) │\n",
            "  «q_1: ┤1                                     ├\n",
            "  «     └──────────────────────────────────────┘\n",
            "  )\n",
            "])\n"
          ]
        }
      ],
      "source": [
        "qnn2 = TwoLayerQNN(2, feature_map_circuit, ansatz_circuit, input_gradients=True,\n",
        "                   exp_val=AerPauliExpectation(), quantum_instance=qi)\n",
        "print(qnn2.operator)\n"
      ]
    },
    {
      "cell_type": "code",
      "execution_count": null,
      "metadata": {},
      "outputs": [],
      "source": [
        "### Torch NN module from Qiskit ###\n",
        "class Net(Module):\n",
        "\n",
        "    def __init__(self):\n",
        "        super().__init__()\n",
        "        self.conv1 = Conv2d(1, 2, kernel_size=5)\n",
        "        self.conv2 = Conv2d(2, 16, kernel_size=5)\n",
        "        self.dropout = Dropout2d()\n",
        "        self.fc1 = Linear(256, 64)\n",
        "        self.fc2 = Linear(64, 2)         # 2-dimensional input to QNN\n",
        "        # Apply torch connector, weights chosen\n",
        "        self.qnn = TorchConnector(qnn2)\n",
        "        # uniformly at random from interval [-1,1].\n",
        "        self.fc3 = Linear(1, 1)\n",
        "        # 1-dimensional output from QNN\n",
        "\n",
        "    def forward(self, x):\n",
        "        x = F.relu(self.conv1(x))\n",
        "        x = F.max_pool2d(x, 2)\n",
        "        x = F.relu(self.conv2(x))\n",
        "        x = F.max_pool2d(x, 2)\n",
        "        x = self.dropout(x)\n",
        "        x = x.view(x.shape[0], -1)\n",
        "        x = F.relu(self.fc1(x))\n",
        "        x = self.fc2(x)\n",
        "        x = self.qnn(x)  # apply QNN\n",
        "        x = self.fc3(x)\n",
        "        return torch.cat((x, 1 - x), -1)"
      ]
    },
    {
      "cell_type": "code",
      "execution_count": 49,
      "metadata": {},
      "outputs": [
        {
          "name": "stdout",
          "output_type": "stream",
          "text": [
            "Training [5%]\tLoss: -0.6461\n",
            "Training [10%]\tLoss: -0.8595\n",
            "Training [15%]\tLoss: -0.9587\n",
            "Training [20%]\tLoss: -1.0018\n",
            "Training [25%]\tLoss: -1.0415\n",
            "Training [30%]\tLoss: -1.0836\n",
            "Training [35%]\tLoss: -1.1179\n",
            "Training [40%]\tLoss: -1.1528\n",
            "Training [45%]\tLoss: -1.2009\n",
            "Training [50%]\tLoss: -1.2262\n",
            "Training [55%]\tLoss: -1.2536\n",
            "Training [60%]\tLoss: -1.2788\n",
            "Training [65%]\tLoss: -1.3120\n",
            "Training [70%]\tLoss: -1.3418\n",
            "Training [75%]\tLoss: -1.3724\n",
            "Training [80%]\tLoss: -1.3832\n",
            "Training [85%]\tLoss: -1.4168\n",
            "Training [90%]\tLoss: -1.4412\n",
            "Training [95%]\tLoss: -1.4666\n",
            "Training [100%]\tLoss: -1.4785\n"
          ]
        }
      ],
      "source": [
        "### Model trained and the loss computed ###\n",
        "model = Net()\n",
        "optimizer = optim.Adam(model.parameters(), lr=0.001)\n",
        "loss_func = nn.NLLLoss()\n",
        "\n",
        "epochs = 20\n",
        "loss_list = []\n",
        "\n",
        "model.train()\n",
        "for epoch in range(epochs):\n",
        "    total_loss = []\n",
        "    for batch_idx, (data, target) in enumerate(train_loader):\n",
        "        optimizer.zero_grad()\n",
        "        # Forward pass\n",
        "        output = model(data)\n",
        "        # Calculating loss\n",
        "        loss = loss_func(output, target)\n",
        "        # Backward pass\n",
        "        loss.backward()\n",
        "        # Optimize the weights\n",
        "        optimizer.step()\n",
        "\n",
        "        total_loss.append(loss.item())\n",
        "    loss_list.append(sum(total_loss)/len(total_loss))\n",
        "    print('Training [{:.0f}%]\\tLoss: {:.4f}'.format(\n",
        "        100. * (epoch + 1) / epochs, loss_list[-1]))\n"
      ]
    },
    {
      "cell_type": "code",
      "execution_count": 50,
      "metadata": {},
      "outputs": [
        {
          "data": {
            "image/png": "[encoded data removed]",
            "text/plain": [
              "<Figure size 432x288 with 1 Axes>"
            ]
          },
          "metadata": {
            "needs_background": "light"
          },
          "output_type": "display_data"
        }
      ],
      "source": [
        "### Loss convergence plotted ###\n",
        "plt.plot(loss_list)\n",
        "plt.title('Hybrid NN Training Convergence')\n",
        "plt.xlabel('Training Iterations')\n",
        "plt.ylabel('Neg. Log Likelihood Loss')\n",
        "plt.show()"
      ]
    },
    {
      "cell_type": "code",
      "execution_count": 62,
      "metadata": {},
      "outputs": [],
      "source": [
        "torch.save(model.state_dict(\n",
        "), 'Models/defaultZZDefaultRealAmp.pth')"
      ]
    },
    {
      "cell_type": "code",
      "execution_count": 51,
      "metadata": {},
      "outputs": [
        {
          "name": "stdout",
          "output_type": "stream",
          "text": [
            "Performance on test data:\n",
            "\tLoss: -1.4213\n",
            "\tAccuracy: 96.6%\n"
          ]
        }
      ],
      "source": [
        "### Model evaluated ###\n",
        "model.eval()\n",
        "with torch.no_grad():\n",
        "    \n",
        "    correct = 0\n",
        "    for batch_idx, (data, target) in enumerate(test_loader):\n",
        "        output = model(data)\n",
        "        \n",
        "        pred = output.argmax(dim=1, keepdim=True) \n",
        "        correct += pred.eq(target.view_as(pred)).sum().item()\n",
        "        \n",
        "        loss = loss_func(output, target)\n",
        "        total_loss.append(loss.item())\n",
        "        \n",
        "    print('Performance on test data:\\n\\tLoss: {:.4f}\\n\\tAccuracy: {:.1f}%'.format(\n",
        "        sum(total_loss) / len(total_loss),\n",
        "        (correct / len(test_loader) / batch_size) * 100))\n"
      ]
    },
    {
      "cell_type": "code",
      "execution_count": 57,
      "metadata": {},
      "outputs": [
        {
          "data": {
            "image/png": "[encoded data removed]",
            "text/plain": [
              "<Figure size 1080x360 with 6 Axes>"
            ]
          },
          "metadata": {},
          "output_type": "display_data"
        }
      ],
      "source": [
        "### Predicted images displayed. Either T-shirt or Trouser ###\n",
        "n_samples_show = 6\n",
        "count = 0\n",
        "fig, axes = plt.subplots(nrows=1, ncols=n_samples_show, figsize=(15, 5))\n",
        "\n",
        "model.eval()\n",
        "with no_grad():\n",
        "    for batch_idx, (data, target) in enumerate(test_loader):\n",
        "        if count == n_samples_show:\n",
        "            break\n",
        "        output = model(data[0:1])\n",
        "        if len(output.shape) == 1:\n",
        "            output = output.reshape(1, *output.shape)\n",
        "\n",
        "        pred = output.argmax(dim=1, keepdim=True)\n",
        "        axes[count].imshow(data[0].numpy().squeeze(), cmap='gray')\n",
        "\n",
        "        axes[count].set_xticks([])\n",
        "        axes[count].set_yticks([])\n",
        "        if pred.item() == 0:\n",
        "            axes[count].set_title('Predicted item: T-Shirt')\n",
        "        elif pred.item() == 1:\n",
        "            axes[count].set_title('Predicted item: Trouser')\n",
        "        count += 1\n"
      ]
    }
  ],
  "metadata": {
    "accelerator": "GPU",
    "colab": {
      "collapsed_sections": [],
      "name": "Untitled2.ipynb",
      "provenance": []
    },
    "gpuClass": "standard",
    "kernelspec": {
      "display_name": "Python 3.8.12 ('qiskit-env')",
      "language": "python",
      "name": "python3"
    },
    "language_info": {
      "codemirror_mode": {
        "name": "ipython",
        "version": 3
      },
      "file_extension": ".py",
      "mimetype": "text/x-python",
      "name": "python",
      "nbconvert_exporter": "python",
      "pygments_lexer": "ipython3",
      "version": "3.10.4"
    },
    "vscode": {
      "interpreter": {
        "hash": "c5e597ca477812040ed5a1629c6451aa891ac46335823a5f6165f6c73dfc5551"
      }
    }
  },
  "nbformat": 4,
  "nbformat_minor": 0
}
